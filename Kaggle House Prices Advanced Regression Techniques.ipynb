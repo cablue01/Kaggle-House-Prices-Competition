{
 "cells": [
  {
   "cell_type": "markdown",
   "metadata": {},
   "source": [
    "# Student Gets Top 2% in Kaggle Housing Prices Competition\n",
    "This as been a fun and very educational project. It took a lot of tinkering over weeks to move up the leaderboard finally peaking in the top 2% of all participants.<br>\n",
    "\n",
    "The competition can be found [here](https://www.kaggle.com/c/house-prices-advanced-regression-techniques). The goal is to use machine learning models to predict housing prices. You are given a train dataset which includes 80 features describing each house, the property, and details about the sale. It also includes housing prices. Once the models are trained you make predictions based a separate test data set that includes all the features but doesn't include the sale price. The predictions are sent to Kaggle for a score. You are only allowed 10 submissions per day, which I definately made use of!"
   ]
  },
  {
   "cell_type": "markdown",
   "metadata": {},
   "source": [
    "### Acknowlegements\n",
    "These resources were very helpful:\n",
    "* **DataQuest**: They have a great online code along data science course. 2 modules in particular were very helpful. One covered linear regression and used the same dataset from the Ames Iowa housing market. The other covered Kaggle competitions in general using the Titanic survival prediction competition. DataQuest can be found [here](https://www.dataquest.io/).\n",
    "* **Feature Engineering Udemy Course**: I took the course specifically to help me with this competition and it was a big help. It can be found [here](https://www.udemy.com/course/feature-engineering-for-machine-learning/).\n",
    "* **Notebooks Uploaded to Kaggle**: There are loads of helpful notebooks uploaded where fellow Kagglers upload their own solution to this competition. I read thru many of them and implemented techniques that I felt I could actually understand. [This](https://www.kaggle.com/lavanyashukla01/how-i-made-top-0-3-on-a-kaggle-competition) is one of the first notebooks I studied. It introduced me to blending scores and a lot of ideas on creating new features. [Another](https://www.kaggle.com/masumrumi/a-detailed-regression-guide-with-house-pricing) good one with lots of explanations. There are many, many others."
   ]
  },
  {
   "cell_type": "markdown",
   "metadata": {},
   "source": [
    "### The Goal\n",
    "Describe the process I went thru and what I learned along the way in order to cement the concepts in my mind. Also hope to solicit feedback and maybe others will find this notebook helpful. I certainly learned a lot reading other peoples notebooks."
   ]
  },
  {
   "cell_type": "markdown",
   "metadata": {},
   "source": [
    "### Preliminary Module Imports"
   ]
  },
  {
   "cell_type": "code",
   "execution_count": 18,
   "metadata": {},
   "outputs": [],
   "source": [
    "import pandas as pd\n",
    "import numpy as np\n",
    "import matplotlib.pyplot as plt  \n",
    "%matplotlib inline\n",
    "\n",
    "import seaborn as sns\n",
    "import matplotlib.gridspec as gridspec\n",
    "import matplotlib.style as style\n",
    "\n",
    "import warnings\n",
    "\n",
    "from scipy import stats\n",
    "from scipy.stats import norm, skew, boxcox_normmax\n",
    "from scipy.special import boxcox1p\n",
    "\n",
    "from sklearn.preprocessing import MinMaxScaler, RobustScaler, StandardScaler"
   ]
  },
  {
   "cell_type": "markdown",
   "metadata": {},
   "source": [
    "### Importing the Data\n",
    "I combine the datasets into one dataframe for convenience. Will split later before training the models."
   ]
  },
  {
   "cell_type": "code",
   "execution_count": 19,
   "metadata": {},
   "outputs": [],
   "source": [
    "def build_df():\n",
    "    df_train = pd.read_csv('../train.csv')\n",
    "    df_test = pd.read_csv('../test.csv')\n",
    "\n",
    "    Ids = df_test['Id']\n",
    "\n",
    "    df_train['Train']=1\n",
    "    df_test['Train']=0\n",
    "\n",
    "    #Join datasets\n",
    "    df = pd.concat([df_train, df_test], axis=0).reset_index(drop=True)\n",
    "    df.drop('Id', axis=1, inplace=True)\n",
    "    \n",
    "    return Ids, df\n",
    "\n",
    "Ids, df = build_df()"
   ]
  },
  {
   "cell_type": "code",
   "execution_count": 20,
   "metadata": {
    "scrolled": true
   },
   "outputs": [
    {
     "data": {
      "text/html": [
       "<div>\n",
       "<style scoped>\n",
       "    .dataframe tbody tr th:only-of-type {\n",
       "        vertical-align: middle;\n",
       "    }\n",
       "\n",
       "    .dataframe tbody tr th {\n",
       "        vertical-align: top;\n",
       "    }\n",
       "\n",
       "    .dataframe thead th {\n",
       "        text-align: right;\n",
       "    }\n",
       "</style>\n",
       "<table border=\"1\" class=\"dataframe\">\n",
       "  <thead>\n",
       "    <tr style=\"text-align: right;\">\n",
       "      <th></th>\n",
       "      <th>MSSubClass</th>\n",
       "      <th>MSZoning</th>\n",
       "      <th>LotFrontage</th>\n",
       "      <th>LotArea</th>\n",
       "      <th>Street</th>\n",
       "      <th>Alley</th>\n",
       "      <th>LotShape</th>\n",
       "      <th>LandContour</th>\n",
       "      <th>Utilities</th>\n",
       "      <th>LotConfig</th>\n",
       "      <th>...</th>\n",
       "      <th>PoolQC</th>\n",
       "      <th>Fence</th>\n",
       "      <th>MiscFeature</th>\n",
       "      <th>MiscVal</th>\n",
       "      <th>MoSold</th>\n",
       "      <th>YrSold</th>\n",
       "      <th>SaleType</th>\n",
       "      <th>SaleCondition</th>\n",
       "      <th>SalePrice</th>\n",
       "      <th>Train</th>\n",
       "    </tr>\n",
       "  </thead>\n",
       "  <tbody>\n",
       "    <tr>\n",
       "      <th>0</th>\n",
       "      <td>60</td>\n",
       "      <td>RL</td>\n",
       "      <td>65.0</td>\n",
       "      <td>8450</td>\n",
       "      <td>Pave</td>\n",
       "      <td>NaN</td>\n",
       "      <td>Reg</td>\n",
       "      <td>Lvl</td>\n",
       "      <td>AllPub</td>\n",
       "      <td>Inside</td>\n",
       "      <td>...</td>\n",
       "      <td>NaN</td>\n",
       "      <td>NaN</td>\n",
       "      <td>NaN</td>\n",
       "      <td>0</td>\n",
       "      <td>2</td>\n",
       "      <td>2008</td>\n",
       "      <td>WD</td>\n",
       "      <td>Normal</td>\n",
       "      <td>208500.0</td>\n",
       "      <td>1</td>\n",
       "    </tr>\n",
       "    <tr>\n",
       "      <th>1</th>\n",
       "      <td>20</td>\n",
       "      <td>RL</td>\n",
       "      <td>80.0</td>\n",
       "      <td>9600</td>\n",
       "      <td>Pave</td>\n",
       "      <td>NaN</td>\n",
       "      <td>Reg</td>\n",
       "      <td>Lvl</td>\n",
       "      <td>AllPub</td>\n",
       "      <td>FR2</td>\n",
       "      <td>...</td>\n",
       "      <td>NaN</td>\n",
       "      <td>NaN</td>\n",
       "      <td>NaN</td>\n",
       "      <td>0</td>\n",
       "      <td>5</td>\n",
       "      <td>2007</td>\n",
       "      <td>WD</td>\n",
       "      <td>Normal</td>\n",
       "      <td>181500.0</td>\n",
       "      <td>1</td>\n",
       "    </tr>\n",
       "    <tr>\n",
       "      <th>2</th>\n",
       "      <td>60</td>\n",
       "      <td>RL</td>\n",
       "      <td>68.0</td>\n",
       "      <td>11250</td>\n",
       "      <td>Pave</td>\n",
       "      <td>NaN</td>\n",
       "      <td>IR1</td>\n",
       "      <td>Lvl</td>\n",
       "      <td>AllPub</td>\n",
       "      <td>Inside</td>\n",
       "      <td>...</td>\n",
       "      <td>NaN</td>\n",
       "      <td>NaN</td>\n",
       "      <td>NaN</td>\n",
       "      <td>0</td>\n",
       "      <td>9</td>\n",
       "      <td>2008</td>\n",
       "      <td>WD</td>\n",
       "      <td>Normal</td>\n",
       "      <td>223500.0</td>\n",
       "      <td>1</td>\n",
       "    </tr>\n",
       "    <tr>\n",
       "      <th>3</th>\n",
       "      <td>70</td>\n",
       "      <td>RL</td>\n",
       "      <td>60.0</td>\n",
       "      <td>9550</td>\n",
       "      <td>Pave</td>\n",
       "      <td>NaN</td>\n",
       "      <td>IR1</td>\n",
       "      <td>Lvl</td>\n",
       "      <td>AllPub</td>\n",
       "      <td>Corner</td>\n",
       "      <td>...</td>\n",
       "      <td>NaN</td>\n",
       "      <td>NaN</td>\n",
       "      <td>NaN</td>\n",
       "      <td>0</td>\n",
       "      <td>2</td>\n",
       "      <td>2006</td>\n",
       "      <td>WD</td>\n",
       "      <td>Abnorml</td>\n",
       "      <td>140000.0</td>\n",
       "      <td>1</td>\n",
       "    </tr>\n",
       "    <tr>\n",
       "      <th>4</th>\n",
       "      <td>60</td>\n",
       "      <td>RL</td>\n",
       "      <td>84.0</td>\n",
       "      <td>14260</td>\n",
       "      <td>Pave</td>\n",
       "      <td>NaN</td>\n",
       "      <td>IR1</td>\n",
       "      <td>Lvl</td>\n",
       "      <td>AllPub</td>\n",
       "      <td>FR2</td>\n",
       "      <td>...</td>\n",
       "      <td>NaN</td>\n",
       "      <td>NaN</td>\n",
       "      <td>NaN</td>\n",
       "      <td>0</td>\n",
       "      <td>12</td>\n",
       "      <td>2008</td>\n",
       "      <td>WD</td>\n",
       "      <td>Normal</td>\n",
       "      <td>250000.0</td>\n",
       "      <td>1</td>\n",
       "    </tr>\n",
       "    <tr>\n",
       "      <th>...</th>\n",
       "      <td>...</td>\n",
       "      <td>...</td>\n",
       "      <td>...</td>\n",
       "      <td>...</td>\n",
       "      <td>...</td>\n",
       "      <td>...</td>\n",
       "      <td>...</td>\n",
       "      <td>...</td>\n",
       "      <td>...</td>\n",
       "      <td>...</td>\n",
       "      <td>...</td>\n",
       "      <td>...</td>\n",
       "      <td>...</td>\n",
       "      <td>...</td>\n",
       "      <td>...</td>\n",
       "      <td>...</td>\n",
       "      <td>...</td>\n",
       "      <td>...</td>\n",
       "      <td>...</td>\n",
       "      <td>...</td>\n",
       "      <td>...</td>\n",
       "    </tr>\n",
       "    <tr>\n",
       "      <th>2914</th>\n",
       "      <td>160</td>\n",
       "      <td>RM</td>\n",
       "      <td>21.0</td>\n",
       "      <td>1936</td>\n",
       "      <td>Pave</td>\n",
       "      <td>NaN</td>\n",
       "      <td>Reg</td>\n",
       "      <td>Lvl</td>\n",
       "      <td>AllPub</td>\n",
       "      <td>Inside</td>\n",
       "      <td>...</td>\n",
       "      <td>NaN</td>\n",
       "      <td>NaN</td>\n",
       "      <td>NaN</td>\n",
       "      <td>0</td>\n",
       "      <td>6</td>\n",
       "      <td>2006</td>\n",
       "      <td>WD</td>\n",
       "      <td>Normal</td>\n",
       "      <td>NaN</td>\n",
       "      <td>0</td>\n",
       "    </tr>\n",
       "    <tr>\n",
       "      <th>2915</th>\n",
       "      <td>160</td>\n",
       "      <td>RM</td>\n",
       "      <td>21.0</td>\n",
       "      <td>1894</td>\n",
       "      <td>Pave</td>\n",
       "      <td>NaN</td>\n",
       "      <td>Reg</td>\n",
       "      <td>Lvl</td>\n",
       "      <td>AllPub</td>\n",
       "      <td>Inside</td>\n",
       "      <td>...</td>\n",
       "      <td>NaN</td>\n",
       "      <td>NaN</td>\n",
       "      <td>NaN</td>\n",
       "      <td>0</td>\n",
       "      <td>4</td>\n",
       "      <td>2006</td>\n",
       "      <td>WD</td>\n",
       "      <td>Abnorml</td>\n",
       "      <td>NaN</td>\n",
       "      <td>0</td>\n",
       "    </tr>\n",
       "    <tr>\n",
       "      <th>2916</th>\n",
       "      <td>20</td>\n",
       "      <td>RL</td>\n",
       "      <td>160.0</td>\n",
       "      <td>20000</td>\n",
       "      <td>Pave</td>\n",
       "      <td>NaN</td>\n",
       "      <td>Reg</td>\n",
       "      <td>Lvl</td>\n",
       "      <td>AllPub</td>\n",
       "      <td>Inside</td>\n",
       "      <td>...</td>\n",
       "      <td>NaN</td>\n",
       "      <td>NaN</td>\n",
       "      <td>NaN</td>\n",
       "      <td>0</td>\n",
       "      <td>9</td>\n",
       "      <td>2006</td>\n",
       "      <td>WD</td>\n",
       "      <td>Abnorml</td>\n",
       "      <td>NaN</td>\n",
       "      <td>0</td>\n",
       "    </tr>\n",
       "    <tr>\n",
       "      <th>2917</th>\n",
       "      <td>85</td>\n",
       "      <td>RL</td>\n",
       "      <td>62.0</td>\n",
       "      <td>10441</td>\n",
       "      <td>Pave</td>\n",
       "      <td>NaN</td>\n",
       "      <td>Reg</td>\n",
       "      <td>Lvl</td>\n",
       "      <td>AllPub</td>\n",
       "      <td>Inside</td>\n",
       "      <td>...</td>\n",
       "      <td>NaN</td>\n",
       "      <td>MnPrv</td>\n",
       "      <td>Shed</td>\n",
       "      <td>700</td>\n",
       "      <td>7</td>\n",
       "      <td>2006</td>\n",
       "      <td>WD</td>\n",
       "      <td>Normal</td>\n",
       "      <td>NaN</td>\n",
       "      <td>0</td>\n",
       "    </tr>\n",
       "    <tr>\n",
       "      <th>2918</th>\n",
       "      <td>60</td>\n",
       "      <td>RL</td>\n",
       "      <td>74.0</td>\n",
       "      <td>9627</td>\n",
       "      <td>Pave</td>\n",
       "      <td>NaN</td>\n",
       "      <td>Reg</td>\n",
       "      <td>Lvl</td>\n",
       "      <td>AllPub</td>\n",
       "      <td>Inside</td>\n",
       "      <td>...</td>\n",
       "      <td>NaN</td>\n",
       "      <td>NaN</td>\n",
       "      <td>NaN</td>\n",
       "      <td>0</td>\n",
       "      <td>11</td>\n",
       "      <td>2006</td>\n",
       "      <td>WD</td>\n",
       "      <td>Normal</td>\n",
       "      <td>NaN</td>\n",
       "      <td>0</td>\n",
       "    </tr>\n",
       "  </tbody>\n",
       "</table>\n",
       "<p>2919 rows × 81 columns</p>\n",
       "</div>"
      ],
      "text/plain": [
       "      MSSubClass MSZoning  LotFrontage  LotArea Street Alley LotShape  \\\n",
       "0             60       RL         65.0     8450   Pave   NaN      Reg   \n",
       "1             20       RL         80.0     9600   Pave   NaN      Reg   \n",
       "2             60       RL         68.0    11250   Pave   NaN      IR1   \n",
       "3             70       RL         60.0     9550   Pave   NaN      IR1   \n",
       "4             60       RL         84.0    14260   Pave   NaN      IR1   \n",
       "...          ...      ...          ...      ...    ...   ...      ...   \n",
       "2914         160       RM         21.0     1936   Pave   NaN      Reg   \n",
       "2915         160       RM         21.0     1894   Pave   NaN      Reg   \n",
       "2916          20       RL        160.0    20000   Pave   NaN      Reg   \n",
       "2917          85       RL         62.0    10441   Pave   NaN      Reg   \n",
       "2918          60       RL         74.0     9627   Pave   NaN      Reg   \n",
       "\n",
       "     LandContour Utilities LotConfig  ... PoolQC  Fence MiscFeature MiscVal  \\\n",
       "0            Lvl    AllPub    Inside  ...    NaN    NaN         NaN       0   \n",
       "1            Lvl    AllPub       FR2  ...    NaN    NaN         NaN       0   \n",
       "2            Lvl    AllPub    Inside  ...    NaN    NaN         NaN       0   \n",
       "3            Lvl    AllPub    Corner  ...    NaN    NaN         NaN       0   \n",
       "4            Lvl    AllPub       FR2  ...    NaN    NaN         NaN       0   \n",
       "...          ...       ...       ...  ...    ...    ...         ...     ...   \n",
       "2914         Lvl    AllPub    Inside  ...    NaN    NaN         NaN       0   \n",
       "2915         Lvl    AllPub    Inside  ...    NaN    NaN         NaN       0   \n",
       "2916         Lvl    AllPub    Inside  ...    NaN    NaN         NaN       0   \n",
       "2917         Lvl    AllPub    Inside  ...    NaN  MnPrv        Shed     700   \n",
       "2918         Lvl    AllPub    Inside  ...    NaN    NaN         NaN       0   \n",
       "\n",
       "     MoSold YrSold  SaleType  SaleCondition  SalePrice  Train  \n",
       "0         2   2008        WD         Normal   208500.0      1  \n",
       "1         5   2007        WD         Normal   181500.0      1  \n",
       "2         9   2008        WD         Normal   223500.0      1  \n",
       "3         2   2006        WD        Abnorml   140000.0      1  \n",
       "4        12   2008        WD         Normal   250000.0      1  \n",
       "...     ...    ...       ...            ...        ...    ...  \n",
       "2914      6   2006        WD         Normal        NaN      0  \n",
       "2915      4   2006        WD        Abnorml        NaN      0  \n",
       "2916      9   2006        WD        Abnorml        NaN      0  \n",
       "2917      7   2006        WD         Normal        NaN      0  \n",
       "2918     11   2006        WD         Normal        NaN      0  \n",
       "\n",
       "[2919 rows x 81 columns]"
      ]
     },
     "execution_count": 20,
     "metadata": {},
     "output_type": "execute_result"
    }
   ],
   "source": [
    "df # I upgraded to python 3 which will automatically display the first 5 and last 5 rows of a dataframe\n",
    "# conveniently removes the need to do df.head() and df.tail() as separate statements"
   ]
  },
  {
   "cell_type": "markdown",
   "metadata": {},
   "source": [
    "80 features are a lot to keep track of but they have logical groupings which make it easier. For example the fields related to the basement:"
   ]
  },
  {
   "cell_type": "code",
   "execution_count": 21,
   "metadata": {},
   "outputs": [
    {
     "data": {
      "text/plain": [
       "['BsmtQual',\n",
       " 'BsmtCond',\n",
       " 'BsmtExposure',\n",
       " 'BsmtFinType1',\n",
       " 'BsmtFinSF1',\n",
       " 'BsmtFinType2',\n",
       " 'BsmtFinSF2',\n",
       " 'BsmtUnfSF',\n",
       " 'TotalBsmtSF',\n",
       " 'BsmtFullBath',\n",
       " 'BsmtHalfBath']"
      ]
     },
     "execution_count": 21,
     "metadata": {},
     "output_type": "execute_result"
    }
   ],
   "source": [
    "[x for x in df.columns if 'Bsmt' in x]"
   ]
  },
  {
   "cell_type": "code",
   "execution_count": 22,
   "metadata": {
    "scrolled": true
   },
   "outputs": [
    {
     "data": {
      "text/plain": [
       "TA    1283\n",
       "Gd    1209\n",
       "Ex     258\n",
       "Fa      88\n",
       "Name: BsmtQual, dtype: int64"
      ]
     },
     "execution_count": 22,
     "metadata": {},
     "output_type": "execute_result"
    }
   ],
   "source": [
    "df.BsmtQual.value_counts()"
   ]
  },
  {
   "cell_type": "markdown",
   "metadata": {},
   "source": [
    "BsmtQual and BsmtCond are strings that are on an ordinal scale from Po = Poor to Ex = Excellent. Then you have a lot of features with SF in the name that are various ways of measuring the size of the basement in square feet. Then you have a couple of features that count bathrooms."
   ]
  },
  {
   "cell_type": "code",
   "execution_count": 23,
   "metadata": {
    "scrolled": true
   },
   "outputs": [
    {
     "data": {
      "text/plain": [
       "Unf    851\n",
       "GLQ    849\n",
       "ALQ    429\n",
       "Rec    288\n",
       "BLQ    269\n",
       "LwQ    154\n",
       "Name: BsmtFinType1, dtype: int64"
      ]
     },
     "execution_count": 23,
     "metadata": {},
     "output_type": "execute_result"
    }
   ],
   "source": [
    "df.BsmtFinType1.value_counts()"
   ]
  },
  {
   "cell_type": "markdown",
   "metadata": {},
   "source": [
    "**From the Data Dictionary on BsmtFinType1 and BsmtFinType2**       \n",
    "       \n",
    "       GLQ\tGood Living Quarters\n",
    "       ALQ\tAverage Living Quarters\n",
    "       BLQ\tBelow Average Living Quarters\t\n",
    "       Rec\tAverage Rec Room\n",
    "       LwQ\tLow Quality\n",
    "       Unf\tUnfinshed\n",
    "       NA\tNo Basement"
   ]
  },
  {
   "cell_type": "markdown",
   "metadata": {},
   "source": [
    "So BsmtFinType1 and 2 rank the basement on a different ordinal scale. There are 2 features in case you have 2 sections of the basement that can be described differently. There are similar features for the Garage, the house in general etc. Having the data dictionary open and referring to it often definately helps."
   ]
  },
  {
   "cell_type": "markdown",
   "metadata": {},
   "source": [
    "### Settings\n",
    "I used settings as a way to keep track of the changes I was making. In my first notebook I found myself in a situation where I lost track of changes I had made to get a temporary best score, and couldn't find my way back. This is an attempt to prevent that problem. I don't use most of them in this notebook in order to save space. But using settings and adding them to a csv file for each Kaggle submission saved me a couple of times.<br>\n",
    "\n",
    "Everything is inter-related. Adding a new feature may mean that the optimal model parameters change. And the optimal blend of model predictions may change as well. So it is easy to make one change, find the optimal settings based on that change, find out the change doesn't improve the Kaggle score like you'd hoped, and then forget all the changes you made."
   ]
  },
  {
   "cell_type": "code",
   "execution_count": 24,
   "metadata": {},
   "outputs": [],
   "source": [
    "RANDOM_STATE = 42\n",
    "\n",
    "# set to true when you want to create the file with scores to submit to kaggle\n",
    "submit_pred = True\n",
    "kag_file_name = 'simple sub 36 - Remove Landslope'\n",
    "\n",
    "# models: calculating best parameters\n",
    "use_scaler_lgb = True\n",
    "find_lgb_params = False\n",
    "find_ridge_params = False\n",
    "find_svr_params = False\n",
    "\n",
    "# settings for using new features\n",
    "use_has = True\n",
    "use_age = True\n",
    "use_exterior = False\n",
    "use_condition = False\n",
    "drop_features = True\n",
    "total_porch_sf = False\n",
    "drop_redundant_feats = False\n",
    "has_count = False\n",
    "near_park = False\n",
    "highlight_months = False\n",
    "total_livable = False\n",
    "\n",
    "# encodings\n",
    "encode_neighborhood = False\n",
    "encode_month = False\n",
    "encode_overallqual = False\n",
    "encode_overallcond = False\n",
    "discrete_to_categorical = True\n",
    "ordered_int_encoding = True\n",
    "one_hot_encode = True\n",
    "trim_discrete = False # setting to true is surprisingly bad.  Why??? Worth investigating. blew up dbscan!\n",
    "avg_grlivarea_hood = True # technically new feature but uses the encoding function\n",
    "\n",
    "# removing features and outliers (rows)\n",
    "remove_overfit_features = True\n",
    "overfit_threshold = 99.94 # 99.94 default\n",
    "rem_outliers_visual = True\n",
    "rem_outliers_dbscan = True\n",
    "dbscan_eps = 25\n",
    "dbscan_min_samples = 80\n",
    "additional_outliers = [30, 462, 631, 1322]\n",
    "\n",
    "# adjusting predictions\n",
    "down_grade_factor = .75 # was .84 significant improvement\n",
    "upgrade_factor = 1.10 # 1.02 default 1.08 improvement\n",
    "upper_limit = 450000\n",
    "lower_limit = 60000 # default 60000\n",
    "\n",
    "# multicollinearity\n",
    "reduce_vif = False\n",
    "pca = False"
   ]
  },
  {
   "cell_type": "markdown",
   "metadata": {},
   "source": [
    "### Transform Target\n",
    "The one modification that made the biggest impact was taking the log of SalePrice. The most common modification I saw in the Kaggle notebooks was log1p. I have also seen ln and log10 used. I don't think it makes much difference which is used, just remember to undo the transformation before sending in the final predictions."
   ]
  },
  {
   "cell_type": "code",
   "execution_count": 25,
   "metadata": {},
   "outputs": [],
   "source": [
    "def visualize_target(df, target): \n",
    "    fig = plt.figure(constrained_layout=True, figsize=(14,7))\n",
    "    grid = gridspec.GridSpec(ncols=5, nrows=4, figure=fig)\n",
    "    \n",
    "    ax1 = fig.add_subplot(grid[0, 2:4])\n",
    "    ax1.set_title('Histogram') \n",
    "    sns.distplot(df.loc[:, target], norm_hist=True, ax = ax1, fit=norm)\n",
    "\n",
    "    ax2 = fig.add_subplot(grid[1, 2:4]) \n",
    "    ax2.set_title('QQ_plot') \n",
    "    stats.probplot(df.loc[:, target], plot = ax2)\n",
    "\n",
    "    ax3 = fig.add_subplot(grid[:, 4])\n",
    "    ax3.set_title('Box Plot')\n",
    "    sns.boxplot(df.loc[:, target], orient='v', ax = ax3 )\n",
    "    \n",
    "    my_corrs = df.corr()[target].sort_values(ascending=False)[1:11].to_frame()\n",
    "    \n",
    "    ax4 = fig.add_subplot(grid[:, 0]) \n",
    "    ax4.set_title(target.upper() + ':\\ncorrelations')\n",
    "    sns.heatmap(data=my_corrs, annot=True, cbar=False)\n",
    "    \n",
    "    plt.show()"
   ]
  },
  {
   "cell_type": "code",
   "execution_count": 26,
   "metadata": {
    "scrolled": false
   },
   "outputs": [
    {
     "data": {
      "image/png": "[encoded data removed]",
      "text/plain": [
       "<Figure size 1008x504 with 4 Axes>"
      ]
     },
     "metadata": {
      "needs_background": "light"
     },
     "output_type": "display_data"
    }
   ],
   "source": [
    "visualize_target(df[df.Train==1], 'SalePrice')"
   ]
  },
  {
   "cell_type": "markdown",
   "metadata": {},
   "source": [
    "Very much skewed to the right with all the outliers above the mean. This is understandable for a housing market with a handful of very large, very expensive homes pulling the mean to the right and a larger group of affordable homes below the mean pulling the median to the left.<br>\n",
    "\n",
    "In the end we will end up \"reskewing\" the final predictions by increasing the SalePrice on the top predictions and lowering those predictions on the cheaper houses. It's not enough to just undo the log transformation. "
   ]
  },
  {
   "cell_type": "markdown",
   "metadata": {},
   "source": [
    "Looking at the features that correlate well with SalePrice confirms general expectations of how housing markets would work. People want large quality houses with garages, basements, and lots of bathrooms. People prefer newer houses unless in some cases they are old enough to be considered \"historic\"."
   ]
  },
  {
   "cell_type": "code",
   "execution_count": 27,
   "metadata": {},
   "outputs": [],
   "source": [
    "df['SalePrice'] = np.log1p(df.SalePrice)"
   ]
  },
  {
   "cell_type": "code",
   "execution_count": 28,
   "metadata": {},
   "outputs": [
    {
     "data": {
      "image/png": "[encoded data removed]",
      "text/plain": [
       "<Figure size 1008x504 with 4 Axes>"
      ]
     },
     "metadata": {
      "needs_background": "light"
     },
     "output_type": "display_data"
    }
   ],
   "source": [
    "visualize_target(df[df.Train==1], 'SalePrice')"
   ]
  },
  {
   "cell_type": "markdown",
   "metadata": {},
   "source": [
    "Much more of a normal distribution now."
   ]
  },
  {
   "cell_type": "markdown",
   "metadata": {},
   "source": [
    "### Fill Nulls\n",
    "Sklearn's linear regression models can't handle null values. This is a pretty simple approach to handling null values. I tried going into more detail, but it didn't help."
   ]
  },
  {
   "cell_type": "code",
   "execution_count": 29,
   "metadata": {},
   "outputs": [],
   "source": [
    "def fill_nulls1(df): \n",
    "    missing_val_col = [\"Alley\", \n",
    "                       \"PoolQC\", \n",
    "                       \"MiscFeature\",\n",
    "                       \"Fence\",\n",
    "                       \"FireplaceQu\",\n",
    "                       \"GarageType\",\n",
    "                       \"GarageFinish\",\n",
    "                       \"GarageQual\",\n",
    "                       \"GarageCond\",\n",
    "                       'BsmtQual',\n",
    "                       'BsmtCond',\n",
    "                       'BsmtExposure',\n",
    "                       'BsmtFinType1',\n",
    "                       'BsmtFinType2',\n",
    "                       'MasVnrType']\n",
    "\n",
    "    for i in missing_val_col:\n",
    "        df[i] = df[i].fillna('None')\n",
    "        \n",
    "    missing_val_col2 = ['BsmtFinSF1',\n",
    "                    'BsmtFinSF2',\n",
    "                    'BsmtUnfSF',\n",
    "                    'TotalBsmtSF',\n",
    "                    'BsmtFullBath', \n",
    "                    'BsmtHalfBath', \n",
    "                    'GarageYrBlt',\n",
    "                    'GarageArea',\n",
    "                    'GarageCars',\n",
    "                    'MasVnrArea']\n",
    "\n",
    "    for i in missing_val_col2:\n",
    "        df[i] = df[i].fillna(0)\n",
    "        \n",
    "    ## Replaced all missing values in LotFrontage by imputing the median value of each neighborhood. \n",
    "    df['LotFrontage'] = df.groupby('Neighborhood')['LotFrontage'].transform( lambda x: x.fillna(x.mean()))\n",
    "    \n",
    "    df['MSSubClass'] = df['MSSubClass'].astype(str)\n",
    "    df['MSZoning'] = df.groupby('MSSubClass')['MSZoning'].transform(lambda x: x.fillna(x.mode()[0]))\n",
    "    \n",
    "    df['Functional'] = df['Functional'].fillna('Typ') \n",
    "    df['Utilities'] = df['Utilities'].fillna('AllPub') \n",
    "    df['Exterior1st'] = df['Exterior1st'].fillna(df['Exterior1st'].mode()[0]) \n",
    "    df['Exterior2nd'] = df['Exterior2nd'].fillna(df['Exterior2nd'].mode()[0])\n",
    "    df['KitchenQual'] = df['KitchenQual'].fillna(\"TA\") \n",
    "    df['SaleType'] = df['SaleType'].fillna(df['SaleType'].mode()[0])\n",
    "    df['Electrical'] = df['Electrical'].fillna(\"SBrkr\") \n",
    "    \n",
    "    print(df.drop('SalePrice', axis=1).isnull().sum().sum(), 'nulls remain')\n",
    "    return df"
   ]
  },
  {
   "cell_type": "markdown",
   "metadata": {},
   "source": [
    "In the data dictionary NA is listed as the value for GarageQual and GarageCond that indicates there is no garage. However in the data no NA values exist and there are a lot of null values. We can therefor make a resonable assumption that \"NA\" or \"None\" would be the appropriate value to use to replace null values in these columns. Likewise 0 is the appropriate value to fill nulls in columns like GarageArea and GarageCars.<br>\n",
    "\n",
    "For other values you can fill with either the mean or the most common value (mode) for that feaure. Or you can pick the mean or mode for the feature grouped by the Neighborhood or another related column. For example with MSZoning I pick the most common value for the MSSubClass to fill nulls because Zoning is related to SubClass.<br>\n",
    "\n",
    "For features like Functional that have one value that is much more common than the others, I just fill with that value."
   ]
  },
  {
   "cell_type": "code",
   "execution_count": 30,
   "metadata": {},
   "outputs": [
    {
     "data": {
      "image/png": "[encoded data removed]",
      "text/plain": [
       "<Figure size 432x288 with 1 Axes>"
      ]
     },
     "metadata": {
      "needs_background": "light"
     },
     "output_type": "display_data"
    }
   ],
   "source": [
    "df.Functional.value_counts().plot.barh();"
   ]
  },
  {
   "cell_type": "markdown",
   "metadata": {},
   "source": [
    "Typ is much more common than all other possible values so we can use it to fillna for Functional. Below we can see the most common value of MSZoning differs by MSSubClass."
   ]
  },
  {
   "cell_type": "code",
   "execution_count": 31,
   "metadata": {
    "scrolled": true
   },
   "outputs": [
    {
     "data": {
      "text/html": [
       "<div>\n",
       "<style scoped>\n",
       "    .dataframe tbody tr th:only-of-type {\n",
       "        vertical-align: middle;\n",
       "    }\n",
       "\n",
       "    .dataframe tbody tr th {\n",
       "        vertical-align: top;\n",
       "    }\n",
       "\n",
       "    .dataframe thead th {\n",
       "        text-align: right;\n",
       "    }\n",
       "</style>\n",
       "<table border=\"1\" class=\"dataframe\">\n",
       "  <thead>\n",
       "    <tr style=\"text-align: right;\">\n",
       "      <th></th>\n",
       "      <th>MSZoning</th>\n",
       "    </tr>\n",
       "    <tr>\n",
       "      <th>MSSubClass</th>\n",
       "      <th></th>\n",
       "    </tr>\n",
       "  </thead>\n",
       "  <tbody>\n",
       "    <tr>\n",
       "      <th>20</th>\n",
       "      <td>RL</td>\n",
       "    </tr>\n",
       "    <tr>\n",
       "      <th>30</th>\n",
       "      <td>RM</td>\n",
       "    </tr>\n",
       "    <tr>\n",
       "      <th>40</th>\n",
       "      <td>RL</td>\n",
       "    </tr>\n",
       "    <tr>\n",
       "      <th>45</th>\n",
       "      <td>RM</td>\n",
       "    </tr>\n",
       "    <tr>\n",
       "      <th>50</th>\n",
       "      <td>RL</td>\n",
       "    </tr>\n",
       "    <tr>\n",
       "      <th>60</th>\n",
       "      <td>RL</td>\n",
       "    </tr>\n",
       "    <tr>\n",
       "      <th>70</th>\n",
       "      <td>RM</td>\n",
       "    </tr>\n",
       "    <tr>\n",
       "      <th>75</th>\n",
       "      <td>RM</td>\n",
       "    </tr>\n",
       "    <tr>\n",
       "      <th>80</th>\n",
       "      <td>RL</td>\n",
       "    </tr>\n",
       "    <tr>\n",
       "      <th>85</th>\n",
       "      <td>RL</td>\n",
       "    </tr>\n",
       "    <tr>\n",
       "      <th>90</th>\n",
       "      <td>RL</td>\n",
       "    </tr>\n",
       "    <tr>\n",
       "      <th>120</th>\n",
       "      <td>RL</td>\n",
       "    </tr>\n",
       "    <tr>\n",
       "      <th>150</th>\n",
       "      <td>RL</td>\n",
       "    </tr>\n",
       "    <tr>\n",
       "      <th>160</th>\n",
       "      <td>RM</td>\n",
       "    </tr>\n",
       "    <tr>\n",
       "      <th>180</th>\n",
       "      <td>RM</td>\n",
       "    </tr>\n",
       "    <tr>\n",
       "      <th>190</th>\n",
       "      <td>RL</td>\n",
       "    </tr>\n",
       "  </tbody>\n",
       "</table>\n",
       "</div>"
      ],
      "text/plain": [
       "           MSZoning\n",
       "MSSubClass         \n",
       "20               RL\n",
       "30               RM\n",
       "40               RL\n",
       "45               RM\n",
       "50               RL\n",
       "60               RL\n",
       "70               RM\n",
       "75               RM\n",
       "80               RL\n",
       "85               RL\n",
       "90               RL\n",
       "120              RL\n",
       "150              RL\n",
       "160              RM\n",
       "180              RM\n",
       "190              RL"
      ]
     },
     "execution_count": 31,
     "metadata": {},
     "output_type": "execute_result"
    }
   ],
   "source": [
    "df.groupby('MSSubClass')['MSZoning'].apply(lambda x: x.mode()[0]).to_frame()"
   ]
  },
  {
   "cell_type": "markdown",
   "metadata": {},
   "source": [
    "The dataframe group by method may seem a little busy and complicated at first but it is very useful once you get the hang of it. "
   ]
  },
  {
   "cell_type": "code",
   "execution_count": 32,
   "metadata": {},
   "outputs": [
    {
     "data": {
      "text/plain": [
       "<pandas.core.groupby.generic.DataFrameGroupBy object at 0x000001AA0BAC0B70>"
      ]
     },
     "execution_count": 32,
     "metadata": {},
     "output_type": "execute_result"
    }
   ],
   "source": [
    "df.groupby(\"MSSubClass\")"
   ]
  },
  {
   "cell_type": "code",
   "execution_count": 33,
   "metadata": {},
   "outputs": [
    {
     "data": {
      "text/plain": [
       "[(20,\n",
       "        MSSubClass MSZoning  LotFrontage  LotArea Street Alley LotShape  \\\n",
       "  1             20       RL         80.0     9600   Pave   NaN      Reg   \n",
       "  6             20       RL         75.0    10084   Pave   NaN      Reg   \n",
       "  10            20       RL         70.0    11200   Pave   NaN      Reg   \n",
       "  12            20       RL          NaN    12968   Pave   NaN      IR2   \n",
       "  13            20       RL         91.0    10652   Pave   NaN      IR1   \n",
       "  ...          ...      ...          ...      ...    ...   ...      ...   \n",
       "  2903          20       RL         88.0    11577   Pave   NaN      Reg   \n",
       "  2904          20      NaN        125.0    31250   Pave   NaN      Reg   \n",
       "  2907          20       RL         58.0    10172   Pave   NaN      IR1   \n",
       "  2911          20       RL         80.0    13384   Pave   NaN      Reg   \n",
       "  2916          20       RL        160.0    20000   Pave   NaN      Reg   \n",
       "  \n",
       "       LandContour Utilities LotConfig  ... PoolQC Fence MiscFeature MiscVal  \\\n",
       "  1            Lvl    AllPub       FR2  ...    NaN   NaN         NaN       0   \n",
       "  6            Lvl    AllPub    Inside  ...    NaN   NaN         NaN       0   \n",
       "  10           Lvl    AllPub    Inside  ...    NaN   NaN         NaN       0   \n",
       "  12           Lvl    AllPub    Inside  ...    NaN   NaN         NaN       0   \n",
       "  13           Lvl    AllPub    Inside  ...    NaN   NaN         NaN       0   \n",
       "  ...          ...       ...       ...  ...    ...   ...         ...     ...   \n",
       "  2903         Lvl    AllPub    Inside  ...    NaN   NaN         NaN       0   \n",
       "  2904         Lvl    AllPub    Inside  ...    NaN   NaN         NaN       0   \n",
       "  2907         Lvl    AllPub    Inside  ...    NaN   NaN         NaN       0   \n",
       "  2911         Lvl    AllPub    Inside  ...    NaN   NaN         NaN       0   \n",
       "  2916         Lvl    AllPub    Inside  ...    NaN   NaN         NaN       0   \n",
       "  \n",
       "       MoSold YrSold  SaleType  SaleCondition  SalePrice  Train  \n",
       "  1         5   2007        WD         Normal  12.109016      1  \n",
       "  6         8   2007        WD         Normal  12.634606      1  \n",
       "  10        2   2008        WD         Normal  11.771444      1  \n",
       "  12        9   2008        WD         Normal  11.877576      1  \n",
       "  13        8   2007       New        Partial  12.540761      1  \n",
       "  ...     ...    ...       ...            ...        ...    ...  \n",
       "  2903      9   2006       New        Partial        NaN      0  \n",
       "  2904      5   2006        WD         Normal        NaN      0  \n",
       "  2907     10   2006        WD         Normal        NaN      0  \n",
       "  2911      5   2006        WD         Normal        NaN      0  \n",
       "  2916      9   2006        WD        Abnorml        NaN      0  \n",
       "  \n",
       "  [1079 rows x 81 columns]),\n",
       " (30,\n",
       "        MSSubClass MSZoning  LotFrontage  LotArea Street Alley LotShape  \\\n",
       "  29            30       RM         60.0     6324   Pave   NaN      IR1   \n",
       "  68            30       RM         47.0     4608   Pave   NaN      Reg   \n",
       "  92            30       RL         80.0    13360   Pave  Grvl      IR1   \n",
       "  98            30       RL         85.0    10625   Pave   NaN      Reg   \n",
       "  106           30       RM         60.0    10800   Pave  Grvl      Reg   \n",
       "  ...          ...      ...          ...      ...    ...   ...      ...   \n",
       "  2871          30       RL         60.0     8088   Pave  Grvl      Reg   \n",
       "  2886          30       RM         50.0     7288   Pave   NaN      Reg   \n",
       "  2888          30       RM         61.0     8534   Pave   NaN      Reg   \n",
       "  2889          30       RM         50.0     7030   Pave   NaN      Reg   \n",
       "  2891          30  C (all)         69.0    12366   Pave   NaN      Reg   \n",
       "  \n",
       "       LandContour Utilities LotConfig  ... PoolQC  Fence MiscFeature MiscVal  \\\n",
       "  29           Lvl    AllPub    Inside  ...    NaN    NaN         NaN       0   \n",
       "  68           Lvl    AllPub    Corner  ...    NaN    NaN         NaN       0   \n",
       "  92           HLS    AllPub    Inside  ...    NaN    NaN         NaN       0   \n",
       "  98           Lvl    AllPub    Corner  ...    NaN    NaN        Shed     400   \n",
       "  106          Lvl    AllPub    Inside  ...    NaN    NaN        Shed     450   \n",
       "  ...          ...       ...       ...  ...    ...    ...         ...     ...   \n",
       "  2871         Lvl    AllPub    Inside  ...    NaN    NaN         NaN       0   \n",
       "  2886         Lvl    AllPub    Inside  ...    NaN    NaN         NaN       0   \n",
       "  2888         Low    AllPub    Inside  ...    NaN   GdWo         NaN       0   \n",
       "  2889         Lvl    AllPub    Inside  ...    NaN  MnPrv         NaN       0   \n",
       "  2891         Lvl    AllPub    Inside  ...    NaN    NaN         NaN       0   \n",
       "  \n",
       "       MoSold YrSold  SaleType  SaleCondition  SalePrice  Train  \n",
       "  29        5   2008        WD         Normal  11.134604      1  \n",
       "  68        6   2010        WD         Normal  11.289794      1  \n",
       "  92        8   2009        WD         Normal  12.004574      1  \n",
       "  98        5   2010       COD        Abnorml  11.326608      1  \n",
       "  106       8   2007        WD         Normal  11.512935      1  \n",
       "  ...     ...    ...       ...            ...        ...    ...  \n",
       "  2871      2   2006     ConLD         Normal        NaN      0  \n",
       "  2886      8   2006        WD        AdjLand        NaN      0  \n",
       "  2888      6   2006        WD         Normal        NaN      0  \n",
       "  2889      3   2006        WD         Normal        NaN      0  \n",
       "  2891     10   2006        WD        Abnorml        NaN      0  \n",
       "  \n",
       "  [139 rows x 81 columns]),\n",
       " (40,\n",
       "        MSSubClass MSZoning  LotFrontage  LotArea Street Alley LotShape  \\\n",
       "  164           40       RM         40.0     5400   Pave  Pave      Reg   \n",
       "  589           40       RM         50.0     9100   Pave   NaN      Reg   \n",
       "  873           40       RL         60.0    12144   Pave   NaN      Reg   \n",
       "  1270          40       RL          NaN    23595   Pave   NaN      Reg   \n",
       "  2454          40       RL         55.0     6854   Pave   NaN      Reg   \n",
       "  2554          40       RL         62.0    10042   Pave   NaN      Reg   \n",
       "  \n",
       "       LandContour Utilities LotConfig  ... PoolQC Fence MiscFeature MiscVal  \\\n",
       "  164          Lvl    AllPub    Corner  ...    NaN   NaN         NaN       0   \n",
       "  589          Lvl    AllPub    Inside  ...    NaN   NaN        Shed     600   \n",
       "  873          Lvl    AllPub    Inside  ...    NaN   NaN        Othr       0   \n",
       "  1270         Low    AllPub    Inside  ...    NaN   NaN         NaN       0   \n",
       "  2454         Bnk    AllPub    Inside  ...    NaN   NaN         NaN       0   \n",
       "  2554         Bnk    AllPub    Corner  ...    NaN   NaN         NaN       0   \n",
       "  \n",
       "       MoSold YrSold  SaleType  SaleCondition  SalePrice  Train  \n",
       "  164      10   2007        WD         Normal  11.931642      1  \n",
       "  589       8   2008        WD         Normal  11.283525      1  \n",
       "  873       9   2009        WD         Normal  11.798112      1  \n",
       "  1270      4   2010        WD         Normal  12.468441      1  \n",
       "  2454      8   2007        WD         Normal        NaN      0  \n",
       "  2554      8   2007        WD         Normal        NaN      0  \n",
       "  \n",
       "  [6 rows x 81 columns]),\n",
       " (45,\n",
       "        MSSubClass MSZoning  LotFrontage  LotArea Street Alley LotShape  \\\n",
       "  15            45       RM         51.0     6120   Pave   NaN      Reg   \n",
       "  21            45       RM         57.0     7449   Pave  Grvl      Reg   \n",
       "  127           45       RM         55.0     4388   Pave   NaN      IR1   \n",
       "  163           45       RL         55.0     5500   Pave   NaN      Reg   \n",
       "  325           45       RM         50.0     5000   Pave   NaN      Reg   \n",
       "  383           45       RH         60.0     9000   Pave   NaN      Reg   \n",
       "  437           45       RM         50.0     6000   Pave   NaN      Reg   \n",
       "  514           45       RL         55.0    10594   Pave   NaN      Reg   \n",
       "  555           45       RM         58.0     6380   Pave   NaN      Reg   \n",
       "  617           45       RL         59.0     7227   Pave   NaN      Reg   \n",
       "  826           45       RM         50.0     6130   Pave   NaN      Reg   \n",
       "  1069          45       RL         60.0     9600   Pave   NaN      Reg   \n",
       "  1533          45       RM         50.0     6900   Pave   NaN      Reg   \n",
       "  2079          45       RL         64.0     6390   Pave   NaN      Reg   \n",
       "  2118          45       RM         50.0     5000   Pave   NaN      Reg   \n",
       "  2397          45       RL         85.0    12172   Pave   NaN      Reg   \n",
       "  2458          45       RM         51.0     6120   Pave   NaN      Reg   \n",
       "  2467          45       RM         40.0     5680   Pave  Grvl      Reg   \n",
       "  \n",
       "       LandContour Utilities LotConfig  ... PoolQC  Fence MiscFeature MiscVal  \\\n",
       "  15           Lvl    AllPub    Corner  ...    NaN  GdPrv         NaN       0   \n",
       "  21           Bnk    AllPub    Inside  ...    NaN  GdPrv         NaN       0   \n",
       "  127          Bnk    AllPub    Inside  ...    NaN    NaN         NaN       0   \n",
       "  163          Lvl    AllPub    Inside  ...    NaN  MnPrv         NaN       0   \n",
       "  325          Lvl    AllPub    Inside  ...    NaN    NaN         NaN       0   \n",
       "  383          Lvl    AllPub    Corner  ...    NaN    NaN         NaN       0   \n",
       "  437          Lvl    AllPub    Inside  ...    NaN    NaN         NaN       0   \n",
       "  514          Lvl    AllPub    Inside  ...    NaN  MnPrv         NaN       0   \n",
       "  555          Lvl    AllPub    Inside  ...    NaN    NaN         NaN       0   \n",
       "  617          HLS    AllPub    Corner  ...    NaN    NaN         NaN       0   \n",
       "  826          Lvl    AllPub    Inside  ...    NaN    NaN         NaN       0   \n",
       "  1069         Lvl    AllPub    Inside  ...    NaN    NaN         NaN       0   \n",
       "  1533         Lvl    AllPub    Corner  ...    NaN    NaN         NaN       0   \n",
       "  2079         Lvl    AllPub    Corner  ...    NaN   GdWo         NaN       0   \n",
       "  2118         Bnk    AllPub    Inside  ...    NaN    NaN         NaN       0   \n",
       "  2397         Lvl    AllPub    Inside  ...    NaN  MnPrv         NaN       0   \n",
       "  2458         Lvl    AllPub    Inside  ...    NaN  MnPrv         NaN       0   \n",
       "  2467         Lvl    AllPub    Inside  ...    NaN  MnPrv         NaN       0   \n",
       "  \n",
       "       MoSold YrSold  SaleType  SaleCondition  SalePrice  Train  \n",
       "  15        7   2007        WD         Normal  11.790565      1  \n",
       "  21        6   2007        WD         Normal  11.845110      1  \n",
       "  127       6   2007        WD         Normal  11.373675      1  \n",
       "  163       4   2007        WD         Normal  11.544434      1  \n",
       "  325      12   2007        WD         Normal  11.373675      1  \n",
       "  383      10   2009        WD         Normal  11.238502      1  \n",
       "  437       1   2009        WD         Normal  11.686887      1  \n",
       "  514       6   2007        WD         Normal  11.477309      1  \n",
       "  555       8   2006        WD         Normal  11.635152      1  \n",
       "  617       6   2008        WD         Normal  11.566476      1  \n",
       "  826       5   2008        WD         Normal  11.603689      1  \n",
       "  1069      5   2007        WD         Normal  11.813037      1  \n",
       "  1533      1   2010        WD         Normal        NaN      0  \n",
       "  2079      6   2008        WD         Normal        NaN      0  \n",
       "  2118      4   2008        WD         Normal        NaN      0  \n",
       "  2397     10   2007        WD         Normal        NaN      0  \n",
       "  2458      7   2007        WD         Normal        NaN      0  \n",
       "  2467      9   2007        WD        AdjLand        NaN      0  \n",
       "  \n",
       "  [18 rows x 81 columns]),\n",
       " (50,\n",
       "        MSSubClass MSZoning  LotFrontage  LotArea Street Alley LotShape  \\\n",
       "  5             50       RL         85.0    14115   Pave   NaN      IR1   \n",
       "  8             50       RM         51.0     6120   Pave   NaN      Reg   \n",
       "  46            50       RL         48.0    12822   Pave   NaN      IR1   \n",
       "  51            50       RM         52.0     6240   Pave   NaN      Reg   \n",
       "  69            50       RL         81.0    15593   Pave   NaN      Reg   \n",
       "  ...          ...      ...          ...      ...    ...   ...      ...   \n",
       "  2881          50       RL         80.0    12400   Pave   NaN      Reg   \n",
       "  2882          50       RL         81.0     8170   Pave   NaN      IR1   \n",
       "  2887          50       RM         50.0     7000   Pave   NaN      Reg   \n",
       "  2890          50       RM         75.0     9060   Pave   NaN      Reg   \n",
       "  2893          50  C (all)         60.0     8520   Grvl   NaN      Reg   \n",
       "  \n",
       "       LandContour Utilities LotConfig  ... PoolQC  Fence MiscFeature MiscVal  \\\n",
       "  5            Lvl    AllPub    Inside  ...    NaN  MnPrv        Shed     700   \n",
       "  8            Lvl    AllPub    Inside  ...    NaN    NaN         NaN       0   \n",
       "  46           Lvl    AllPub   CulDSac  ...    NaN    NaN         NaN       0   \n",
       "  51           Lvl    AllPub    Inside  ...    NaN  MnPrv        Shed     400   \n",
       "  69           Lvl    AllPub    Corner  ...    NaN    NaN         NaN       0   \n",
       "  ...          ...       ...       ...  ...    ...    ...         ...     ...   \n",
       "  2881         HLS    AllPub    Inside  ...    NaN    NaN         NaN       0   \n",
       "  2882         Lvl    AllPub    Inside  ...    NaN    NaN         NaN       0   \n",
       "  2887         Lvl    AllPub    Inside  ...    NaN  MnPrv         NaN       0   \n",
       "  2890         Lvl    AllPub    Inside  ...    NaN    NaN         NaN       0   \n",
       "  2893         Bnk    AllPub    Inside  ...    NaN    NaN         NaN       0   \n",
       "  \n",
       "       MoSold YrSold  SaleType  SaleCondition  SalePrice  Train  \n",
       "  5        10   2009        WD         Normal  11.870607      1  \n",
       "  8         4   2008        WD        Abnorml  11.774528      1  \n",
       "  46        8   2009        WD        Abnorml  12.387089      1  \n",
       "  51        9   2006        WD         Normal  11.648339      1  \n",
       "  69        7   2006        WD         Normal  12.323860      1  \n",
       "  ...     ...    ...       ...            ...        ...    ...  \n",
       "  2881      2   2006        WD         Normal        NaN      0  \n",
       "  2882      2   2006        WD         Normal        NaN      0  \n",
       "  2887      5   2006        WD         Normal        NaN      0  \n",
       "  2890      4   2006        WD         Normal        NaN      0  \n",
       "  2893      4   2006        WD         Normal        NaN      0  \n",
       "  \n",
       "  [287 rows x 81 columns]),\n",
       " (60,\n",
       "        MSSubClass MSZoning  LotFrontage  LotArea Street Alley LotShape  \\\n",
       "  0             60       RL         65.0     8450   Pave   NaN      Reg   \n",
       "  2             60       RL         68.0    11250   Pave   NaN      IR1   \n",
       "  4             60       RL         84.0    14260   Pave   NaN      IR1   \n",
       "  7             60       RL          NaN    10382   Pave   NaN      IR1   \n",
       "  11            60       RL         85.0    11924   Pave   NaN      IR1   \n",
       "  ...          ...      ...          ...      ...    ...   ...      ...   \n",
       "  2856          60       RL         70.0     8400   Pave   NaN      Reg   \n",
       "  2861          60       RL         62.0     7162   Pave   NaN      Reg   \n",
       "  2863          60       RL         90.0    11060   Pave   NaN      IR1   \n",
       "  2885          60       RL         78.0    15600   Pave   NaN      Reg   \n",
       "  2918          60       RL         74.0     9627   Pave   NaN      Reg   \n",
       "  \n",
       "       LandContour Utilities LotConfig  ... PoolQC Fence MiscFeature MiscVal  \\\n",
       "  0            Lvl    AllPub    Inside  ...    NaN   NaN         NaN       0   \n",
       "  2            Lvl    AllPub    Inside  ...    NaN   NaN         NaN       0   \n",
       "  4            Lvl    AllPub       FR2  ...    NaN   NaN         NaN       0   \n",
       "  7            Lvl    AllPub    Corner  ...    NaN   NaN        Shed     350   \n",
       "  11           Lvl    AllPub    Inside  ...    NaN   NaN         NaN       0   \n",
       "  ...          ...       ...       ...  ...    ...   ...         ...     ...   \n",
       "  2856         Lvl    AllPub    Inside  ...    NaN   NaN         NaN       0   \n",
       "  2861         Lvl    AllPub    Inside  ...    NaN   NaN         NaN       0   \n",
       "  2863         Lvl    AllPub    Corner  ...    NaN   NaN         NaN       0   \n",
       "  2885         Lvl    AllPub    Inside  ...    NaN   NaN         NaN       0   \n",
       "  2918         Lvl    AllPub    Inside  ...    NaN   NaN         NaN       0   \n",
       "  \n",
       "       MoSold YrSold  SaleType  SaleCondition  SalePrice  Train  \n",
       "  0         2   2008        WD         Normal  12.247699      1  \n",
       "  2         9   2008        WD         Normal  12.317171      1  \n",
       "  4        12   2008        WD         Normal  12.429220      1  \n",
       "  7        11   2009        WD         Normal  12.206078      1  \n",
       "  11        7   2006       New        Partial  12.751303      1  \n",
       "  ...     ...    ...       ...            ...        ...    ...  \n",
       "  2856      3   2006        WD         Normal        NaN      0  \n",
       "  2861      5   2006        WD         Normal        NaN      0  \n",
       "  2863      2   2006     ConLD         Normal        NaN      0  \n",
       "  2885      7   2006        WD         Normal        NaN      0  \n",
       "  2918     11   2006        WD         Normal        NaN      0  \n",
       "  \n",
       "  [575 rows x 81 columns]),\n",
       " (70,\n",
       "        MSSubClass MSZoning  LotFrontage  LotArea Street Alley LotShape  \\\n",
       "  3             70       RL         60.0     9550   Pave   NaN      IR1   \n",
       "  30            70  C (all)         50.0     8500   Pave  Pave      Reg   \n",
       "  63            70       RM         50.0    10300   Pave   NaN      IR1   \n",
       "  114           70       RL         61.0     7259   Pave   NaN      IR1   \n",
       "  181           70       RL         54.0     7588   Pave   NaN      Reg   \n",
       "  ...          ...      ...          ...      ...    ...   ...      ...   \n",
       "  2875          70       RL         43.0     7000   Pave   NaN      Reg   \n",
       "  2876          70       RL         69.0     4899   Pave   NaN      Reg   \n",
       "  2877          70       RL         54.0     9399   Pave   NaN      Reg   \n",
       "  2883          70       RL         70.0    12320   Pave   NaN      IR1   \n",
       "  2884          70       RL         70.0    14210   Pave   NaN      IR1   \n",
       "  \n",
       "       LandContour Utilities LotConfig  ... PoolQC  Fence MiscFeature MiscVal  \\\n",
       "  3            Lvl    AllPub    Corner  ...    NaN    NaN         NaN       0   \n",
       "  30           Lvl    AllPub    Inside  ...    NaN  MnPrv         NaN       0   \n",
       "  63           Bnk    AllPub    Inside  ...    NaN  GdPrv         NaN       0   \n",
       "  114          Lvl    AllPub    Inside  ...    NaN  MnPrv         NaN       0   \n",
       "  181          Lvl    AllPub    Inside  ...    NaN    NaN         NaN       0   \n",
       "  ...          ...       ...       ...  ...    ...    ...         ...     ...   \n",
       "  2875         Lvl    AllPub    Inside  ...    NaN  MnPrv         NaN       0   \n",
       "  2876         HLS    AllPub    Corner  ...    NaN    NaN         NaN       0   \n",
       "  2877         Bnk    AllPub    Inside  ...    NaN    NaN         NaN       0   \n",
       "  2883         HLS    AllPub    Inside  ...    NaN   GdWo         NaN       0   \n",
       "  2884         Lvl    AllPub    Inside  ...    NaN  MnPrv         NaN       0   \n",
       "  \n",
       "       MoSold YrSold  SaleType  SaleCondition  SalePrice  Train  \n",
       "  3         2   2006        WD        Abnorml  11.849405      1  \n",
       "  30        7   2008        WD         Normal  10.596660      1  \n",
       "  63        4   2010        WD         Normal  11.849405      1  \n",
       "  114       7   2007        WD         Normal  12.466516      1  \n",
       "  181       7   2006        WD         Normal  12.206578      1  \n",
       "  ...     ...    ...       ...            ...        ...    ...  \n",
       "  2875      5   2006        WD         Normal        NaN      0  \n",
       "  2876      6   2006        WD         Normal        NaN      0  \n",
       "  2877      9   2006        WD        Abnorml        NaN      0  \n",
       "  2883      5   2006        WD         Normal        NaN      0  \n",
       "  2884     11   2006        WD         Normal        NaN      0  \n",
       "  \n",
       "  [128 rows x 81 columns]),\n",
       " (75,\n",
       "        MSSubClass MSZoning  LotFrontage  LotArea Street Alley LotShape  \\\n",
       "  61            75       RM         60.0     7200   Pave   NaN      Reg   \n",
       "  185           75       RM         90.0    22950   Pave   NaN      IR2   \n",
       "  197           75       RL        174.0    25419   Pave   NaN      Reg   \n",
       "  198           75       RM         92.0     5520   Pave   NaN      Reg   \n",
       "  267           75       RL         60.0     8400   Pave   NaN      Reg   \n",
       "  304           75       RM         87.0    18386   Pave   NaN      Reg   \n",
       "  328           75       RL          NaN    11888   Pave  Pave      IR1   \n",
       "  583           75       RM         75.0    13500   Pave   NaN      Reg   \n",
       "  735           75       RM         60.0    10800   Pave   NaN      Reg   \n",
       "  784           75       RM         35.0     6300   Pave  Grvl      Reg   \n",
       "  809           75       RM         90.0     8100   Pave   NaN      Reg   \n",
       "  852           75       RL         53.0     7128   Pave   NaN      Reg   \n",
       "  883           75       RL         60.0     6204   Pave   NaN      Reg   \n",
       "  1031          75       RL        102.0    15863   Pave   NaN      Reg   \n",
       "  1197          75       RM         65.0     8850   Pave   NaN      IR1   \n",
       "  1248          75       RM         60.0     9600   Pave  Grvl      Reg   \n",
       "  1542          75       RL          NaN     7793   Pave   NaN      IR1   \n",
       "  1995          75       RL         84.0     9660   Pave   NaN      Reg   \n",
       "  2089          75       RM         60.0     6000   Pave   NaN      Reg   \n",
       "  2101          75       RM         53.0     5350   Pave   NaN      Reg   \n",
       "  2451          75       RM         75.0    13500   Pave  Grvl      Reg   \n",
       "  2788          75       RM         70.0     6300   Pave   NaN      Reg   \n",
       "  2822          75       RL         60.0    19800   Pave   NaN      Reg   \n",
       "  \n",
       "       LandContour Utilities LotConfig  ... PoolQC  Fence MiscFeature MiscVal  \\\n",
       "  61           Lvl    AllPub    Inside  ...    NaN    NaN         NaN       0   \n",
       "  185          Lvl    AllPub    Inside  ...    NaN  GdPrv         NaN       0   \n",
       "  197          Lvl    AllPub    Corner  ...     Ex  GdPrv         NaN       0   \n",
       "  198          Lvl    AllPub    Corner  ...    NaN  MnPrv         NaN       0   \n",
       "  267          Bnk    AllPub    Inside  ...    NaN    NaN         NaN       0   \n",
       "  304          Lvl    AllPub    Inside  ...    NaN    NaN         NaN       0   \n",
       "  328          Bnk    AllPub    Inside  ...    NaN    NaN         NaN       0   \n",
       "  583          Lvl    AllPub    Inside  ...    NaN    NaN         NaN       0   \n",
       "  735          Lvl    AllPub    Inside  ...    NaN    NaN         NaN       0   \n",
       "  784          Lvl    AllPub    Inside  ...    NaN    NaN         NaN       0   \n",
       "  809          Lvl    AllPub    Corner  ...    NaN  MnPrv         NaN       0   \n",
       "  852          Lvl    AllPub    Inside  ...    NaN  MnPrv         NaN       0   \n",
       "  883          Bnk    AllPub    Inside  ...    NaN    NaN         NaN       0   \n",
       "  1031         Lvl    AllPub    Corner  ...    NaN    NaN         NaN       0   \n",
       "  1197         Bnk    AllPub    Corner  ...    NaN    NaN         NaN       0   \n",
       "  1248         Lvl    AllPub    Inside  ...    NaN    NaN         NaN       0   \n",
       "  1542         Bnk    AllPub    Corner  ...    NaN    NaN         NaN       0   \n",
       "  1995         Lvl    AllPub    Inside  ...    NaN    NaN         NaN       0   \n",
       "  2089         Lvl    AllPub    Inside  ...    NaN    NaN         NaN       0   \n",
       "  2101         Lvl    AllPub    Corner  ...    NaN  MnPrv         NaN       0   \n",
       "  2451         Lvl    AllPub    Corner  ...    NaN  MnPrv         NaN       0   \n",
       "  2788         Lvl    AllPub    Corner  ...    NaN    NaN         NaN       0   \n",
       "  2822         Lvl    AllPub    Inside  ...    NaN    NaN         NaN       0   \n",
       "  \n",
       "       MoSold YrSold  SaleType  SaleCondition  SalePrice  Train  \n",
       "  61        3   2007        WD         Normal  11.522886      1  \n",
       "  185       6   2006        WD         Normal  13.071072      1  \n",
       "  197       3   2006        WD        Abnorml  12.367345      1  \n",
       "  198       7   2009        WD        Abnorml  11.552156      1  \n",
       "  267       7   2008        WD         Normal  12.097936      1  \n",
       "  304       5   2008        WD         Normal  12.594734      1  \n",
       "  328       7   2009        WD         Normal  12.276070      1  \n",
       "  583       7   2008        WD         Normal  12.691584      1  \n",
       "  735      10   2006        WD         Normal  12.001512      1  \n",
       "  784       6   2008        WD         Normal  11.759793      1  \n",
       "  809      11   2009        WD         Normal  11.571204      1  \n",
       "  852       8   2007        WD         Normal  12.007628      1  \n",
       "  883       3   2006        WD         Normal  11.682677      1  \n",
       "  1031      8   2009        WD         Normal  12.190964      1  \n",
       "  1197      7   2006     ConLw         Normal  11.877576      1  \n",
       "  1248      4   2008        WD         Normal  11.771444      1  \n",
       "  1542      5   2010        WD         Normal        NaN      0  \n",
       "  1995      9   2008        WD         Normal        NaN      0  \n",
       "  2089      6   2008        WD         Normal        NaN      0  \n",
       "  2101      3   2008        WD         Normal        NaN      0  \n",
       "  2451      2   2007        WD         Normal        NaN      0  \n",
       "  2788      7   2006        WD         Normal        NaN      0  \n",
       "  2822     12   2006        WD         Normal        NaN      0  \n",
       "  \n",
       "  [23 rows x 81 columns]),\n",
       " (80,\n",
       "        MSSubClass MSZoning  LotFrontage  LotArea Street Alley LotShape  \\\n",
       "  54            80       RL         60.0     7134   Pave   NaN      Reg   \n",
       "  84            80       RL          NaN     8530   Pave   NaN      IR1   \n",
       "  111           80       RL          NaN     7750   Pave   NaN      IR1   \n",
       "  120           80       RL          NaN    21453   Pave   NaN      IR1   \n",
       "  186           80       RL          NaN     9947   Pave   NaN      IR1   \n",
       "  ...          ...      ...          ...      ...    ...   ...      ...   \n",
       "  2808          80       RL         80.0    10366   Pave   NaN      IR1   \n",
       "  2811          80       RL          NaN     7176   Pave   NaN      IR1   \n",
       "  2823          80       RL         78.0    11679   Pave   NaN      IR1   \n",
       "  2843          80       RL         42.0    10385   Pave   NaN      IR1   \n",
       "  2899          80       RL        140.0    11080   Pave   NaN      Reg   \n",
       "  \n",
       "       LandContour Utilities LotConfig  ... PoolQC  Fence MiscFeature MiscVal  \\\n",
       "  54           Bnk    AllPub    Inside  ...    NaN  MnPrv         NaN       0   \n",
       "  84           Lvl    AllPub    Inside  ...    NaN    NaN        Shed     700   \n",
       "  111          Lvl    AllPub    Inside  ...    NaN    NaN         NaN       0   \n",
       "  120          Low    AllPub   CulDSac  ...    NaN    NaN         NaN       0   \n",
       "  186          Lvl    AllPub   CulDSac  ...    NaN  GdPrv         NaN       0   \n",
       "  ...          ...       ...       ...  ...    ...    ...         ...     ...   \n",
       "  2808         Lvl    AllPub    Corner  ...    NaN  GdPrv        Shed     500   \n",
       "  2811         Lvl    AllPub   CulDSac  ...    NaN  GdPrv         NaN       0   \n",
       "  2823         Lvl    AllPub    Inside  ...    NaN  MnPrv         NaN       0   \n",
       "  2843         Lvl    AllPub   CulDSac  ...    NaN    NaN         NaN       0   \n",
       "  2899         Lvl    AllPub    Corner  ...    NaN    NaN         NaN       0   \n",
       "  \n",
       "       MoSold YrSold  SaleType  SaleCondition  SalePrice  Train  \n",
       "  54        2   2007        WD         Normal  11.775297      1  \n",
       "  84        5   2009        WD         Normal  12.034697      1  \n",
       "  111       4   2010        WD         Normal  12.100718      1  \n",
       "  120      10   2006        WD         Normal  12.100718      1  \n",
       "  186       6   2009        WD         Normal  12.061053      1  \n",
       "  ...     ...    ...       ...            ...        ...    ...  \n",
       "  2808      7   2006        WD         Normal        NaN      0  \n",
       "  2811      7   2006        WD         Normal        NaN      0  \n",
       "  2823      5   2006        WD         Normal        NaN      0  \n",
       "  2843      4   2006        WD         Normal        NaN      0  \n",
       "  2899      5   2006        WD         Normal        NaN      0  \n",
       "  \n",
       "  [118 rows x 81 columns]),\n",
       " (85,\n",
       "        MSSubClass MSZoning  LotFrontage  LotArea Street Alley LotShape  \\\n",
       "  42            85       RL          NaN     9180   Pave   NaN      IR1   \n",
       "  360           85       RL          NaN     7540   Pave   NaN      IR1   \n",
       "  362           85       RL         64.0     7301   Pave   NaN      Reg   \n",
       "  376           85       RL         57.0     8846   Pave   NaN      IR1   \n",
       "  547           85       RL         54.0     7244   Pave   NaN      Reg   \n",
       "  587           85       RL         74.0     8740   Pave   NaN      IR1   \n",
       "  615           85       RL         80.0     8800   Pave   NaN      Reg   \n",
       "  663           85       RL         90.0    10012   Pave   NaN      Reg   \n",
       "  770           85       RL          NaN     7252   Pave   NaN      IR1   \n",
       "  783           85       RL          NaN     9101   Pave   NaN      IR1   \n",
       "  845           85       RL          NaN    16647   Pave   NaN      IR1   \n",
       "  878           85       RL         88.0    11782   Pave   NaN      IR1   \n",
       "  952           85       RL         60.0     7200   Pave   NaN      Reg   \n",
       "  980           85       RL          NaN    12122   Pave   NaN      IR1   \n",
       "  1085          85       RL         73.0     9069   Pave   NaN      Reg   \n",
       "  1214          85       RL         69.0    10205   Pave   NaN      IR1   \n",
       "  1242          85       RL         85.0    10625   Pave   NaN      Reg   \n",
       "  1392          85       RL         68.0     7838   Pave   NaN      Reg   \n",
       "  1406          85       RL         70.0     8445   Pave   NaN      Reg   \n",
       "  1445          85       RL         70.0     8400   Pave   NaN      Reg   \n",
       "  1516          85       RL         75.0    11380   Pave   NaN      IR1   \n",
       "  1578          85       RL         82.0    11105   Pave   NaN      Reg   \n",
       "  1754          85       RL          NaN    16500   Pave   NaN      Reg   \n",
       "  1836          85       RM         86.0     5160   Pave  Grvl      Reg   \n",
       "  1843          85       RL          NaN     8014   Pave   NaN      IR1   \n",
       "  1917          85       RL         75.0     9750   Pave   NaN      Reg   \n",
       "  1918          85       RL         72.0     9360   Pave   NaN      Reg   \n",
       "  1928          85       RL         50.0     7689   Pave   NaN      IR1   \n",
       "  1930          85       RL         70.0     7669   Pave   NaN      Reg   \n",
       "  2137          85       RL          NaN    11235   Pave   NaN      Reg   \n",
       "  2140          85       RL          NaN     7703   Pave   NaN      IR1   \n",
       "  2142          85       RL          NaN     7400   Pave   NaN      IR1   \n",
       "  2184          85       RL         64.0    12102   Pave   NaN      Reg   \n",
       "  2240          85       RL        150.0    14137   Pave   NaN      Reg   \n",
       "  2379          85       RL          NaN     8723   Pave   NaN      IR1   \n",
       "  2403          85       RL          NaN    10050   Pave   NaN      IR1   \n",
       "  2437          85       RL         66.0     6760   Pave   NaN      Reg   \n",
       "  2477          85       RL         75.0    11235   Pave   NaN      Reg   \n",
       "  2542          85       RL         75.0     9825   Pave   NaN      Reg   \n",
       "  2583          85       RL          NaN    12150   Pave   NaN      IR1   \n",
       "  2588          85       RL         82.0     8410   Pave   NaN      IR1   \n",
       "  2605          85       RL         72.0     9129   Pave   NaN      Reg   \n",
       "  2609          85       RL         50.0     6723   Pave   NaN      Reg   \n",
       "  2634          85       RL          NaN    10464   Pave   NaN      IR1   \n",
       "  2636          85       RL          NaN     9927   Pave   NaN      IR1   \n",
       "  2723          85       RL         70.0     8400   Pave   NaN      Reg   \n",
       "  2817          85       RL         72.0    10820   Pave   NaN      Reg   \n",
       "  2917          85       RL         62.0    10441   Pave   NaN      Reg   \n",
       "  \n",
       "       LandContour Utilities LotConfig  ... PoolQC  Fence MiscFeature MiscVal  \\\n",
       "  42           Lvl    AllPub   CulDSac  ...    NaN  MnPrv         NaN       0   \n",
       "  360          Lvl    AllPub   CulDSac  ...    NaN  MnPrv         NaN       0   \n",
       "  362          Lvl    AllPub    Corner  ...    NaN    NaN         NaN       0   \n",
       "  376          Lvl    AllPub   CulDSac  ...    NaN    NaN         NaN       0   \n",
       "  547          Lvl    AllPub    Inside  ...    NaN    NaN         NaN       0   \n",
       "  587          Lvl    AllPub    Inside  ...    NaN    NaN         NaN       0   \n",
       "  615          Lvl    AllPub    Inside  ...    NaN  MnPrv         NaN       0   \n",
       "  663          Lvl    AllPub    Inside  ...    NaN  MnPrv         NaN       0   \n",
       "  770          Lvl    AllPub   CulDSac  ...    NaN    NaN         NaN       0   \n",
       "  783          Lvl    AllPub    Corner  ...    NaN    NaN         NaN       0   \n",
       "  845          Lvl    AllPub   CulDSac  ...    NaN    NaN         NaN       0   \n",
       "  878          Lvl    AllPub    Inside  ...    NaN  MnPrv        Shed     400   \n",
       "  952          Lvl    AllPub    Inside  ...    NaN  MnPrv         NaN       0   \n",
       "  980          Lvl    AllPub    Corner  ...    NaN    NaN         NaN       0   \n",
       "  1085         Lvl    AllPub    Inside  ...    NaN    NaN         NaN       0   \n",
       "  1214         Lvl    AllPub    Inside  ...    NaN    NaN         NaN       0   \n",
       "  1242         Lvl    AllPub    Inside  ...    NaN  MnPrv         NaN       0   \n",
       "  1392         Lvl    AllPub    Inside  ...    NaN   MnWw         NaN       0   \n",
       "  1406         Lvl    AllPub    Corner  ...    NaN  MnPrv         NaN       0   \n",
       "  1445         Lvl    AllPub    Inside  ...    NaN    NaN         NaN       0   \n",
       "  1516         Lvl    AllPub    Inside  ...    NaN    NaN        Shed    1500   \n",
       "  1578         Lvl    AllPub    Corner  ...    NaN  GdPrv         NaN       0   \n",
       "  1754         Lvl    AllPub    Inside  ...    NaN    NaN         NaN       0   \n",
       "  1836         Lvl    AllPub    Inside  ...    NaN    NaN         NaN       0   \n",
       "  1843         Lvl    AllPub   CulDSac  ...    NaN    NaN         NaN       0   \n",
       "  1917         Lvl    AllPub    Inside  ...    NaN  MnPrv         NaN       0   \n",
       "  1918         Bnk    AllPub    Inside  ...    NaN   GdWo         NaN       0   \n",
       "  1928         Lvl    AllPub    Inside  ...    NaN  MnPrv         NaN       0   \n",
       "  1930         Lvl    AllPub    Inside  ...    NaN  GdPrv         NaN       0   \n",
       "  2137         Lvl    AllPub    Corner  ...    NaN  MnPrv         NaN       0   \n",
       "  2140         Lvl    AllPub   CulDSac  ...    NaN   GdWo         NaN       0   \n",
       "  2142         Lvl    AllPub   CulDSac  ...    NaN    NaN         NaN       0   \n",
       "  2184         Lvl    AllPub    Inside  ...    NaN    NaN         NaN       0   \n",
       "  2240         Lvl    AllPub    Corner  ...    NaN    NaN         NaN       0   \n",
       "  2379         Lvl    AllPub    Inside  ...    NaN    NaN         NaN       0   \n",
       "  2403         Lvl    AllPub    Inside  ...    NaN    NaN         NaN       0   \n",
       "  2437         Lvl    AllPub    Inside  ...    NaN    NaN         NaN       0   \n",
       "  2477         Lvl    AllPub    Inside  ...    NaN    NaN         NaN       0   \n",
       "  2542         Low    AllPub    Inside  ...    NaN    NaN        Shed     450   \n",
       "  2583         Bnk    AllPub   CulDSac  ...    NaN  MnPrv         NaN       0   \n",
       "  2588         Lvl    AllPub    Corner  ...    NaN    NaN         NaN       0   \n",
       "  2605         Lvl    AllPub    Inside  ...    NaN  MnPrv         NaN       0   \n",
       "  2609         Lvl    AllPub    Inside  ...    NaN   GdWo         NaN       0   \n",
       "  2634         Lvl    AllPub       FR3  ...    NaN    NaN         NaN       0   \n",
       "  2636         Lvl    AllPub    Inside  ...    NaN    NaN         NaN       0   \n",
       "  2723         Lvl    AllPub    Inside  ...    NaN    NaN         NaN       0   \n",
       "  2817         Lvl    AllPub    Corner  ...    NaN  MnPrv         NaN       0   \n",
       "  2917         Lvl    AllPub    Inside  ...    NaN  MnPrv        Shed     700   \n",
       "  \n",
       "       MoSold YrSold  SaleType  SaleCondition  SalePrice  Train  \n",
       "  42       12   2007        WD         Normal  11.877576      1  \n",
       "  360       6   2007        WD         Normal  11.957618      1  \n",
       "  362       7   2009     ConLD         Normal  12.198549      1  \n",
       "  376       7   2006        WD         Normal  11.904974      1  \n",
       "  547       4   2007        WD         Normal  11.771444      1  \n",
       "  587       7   2009        WD         Normal  11.827744      1  \n",
       "  615       5   2010        WD        Abnorml  11.831386      1  \n",
       "  663       4   2008        WD         Normal  11.831386      1  \n",
       "  770       4   2009        WD         Normal  11.812296      1  \n",
       "  783       7   2009        WD         Normal  12.016733      1  \n",
       "  845       1   2007        WD         Normal  12.049425      1  \n",
       "  878       6   2010        WD         Normal  11.904974      1  \n",
       "  952       4   2009        WD         Normal  11.804856      1  \n",
       "  980       7   2008        WD         Normal  12.091789      1  \n",
       "  1085      4   2010        WD         Normal  11.898195      1  \n",
       "  1214      5   2006        WD         Normal  11.809327      1  \n",
       "  1242      1   2010        WD         Family  12.043560      1  \n",
       "  1392     12   2006        WD         Normal  11.719948      1  \n",
       "  1406      3   2009        WD         Normal  11.798112      1  \n",
       "  1445      5   2007        WD         Normal  11.767575      1  \n",
       "  1516      1   2010        WD         Normal        NaN      0  \n",
       "  1578      7   2010        WD         Normal        NaN      0  \n",
       "  1754      5   2009        WD         Normal        NaN      0  \n",
       "  1836      7   2009       COD        Abnorml        NaN      0  \n",
       "  1843      6   2009        WD         Normal        NaN      0  \n",
       "  1917      4   2009        WD         Normal        NaN      0  \n",
       "  1918     11   2009        WD         Normal        NaN      0  \n",
       "  1928      7   2009        WD         Normal        NaN      0  \n",
       "  1930      6   2009        WD         Normal        NaN      0  \n",
       "  2137      5   2008        WD        Abnorml        NaN      0  \n",
       "  2140      5   2008        WD         Normal        NaN      0  \n",
       "  2142      3   2008        WD         Normal        NaN      0  \n",
       "  2184      4   2008        WD         Family        NaN      0  \n",
       "  2240     11   2008     ConLD         Normal        NaN      0  \n",
       "  2379      1   2007        WD         Normal        NaN      0  \n",
       "  2403      6   2007        WD         Normal        NaN      0  \n",
       "  2437     10   2007        WD         Normal        NaN      0  \n",
       "  2477     11   2007        WD         Normal        NaN      0  \n",
       "  2542      8   2007        WD        Abnorml        NaN      0  \n",
       "  2583      1   2007        WD         Normal        NaN      0  \n",
       "  2588      4   2007        WD         Normal        NaN      0  \n",
       "  2605      7   2007        WD         Normal        NaN      0  \n",
       "  2609      9   2007        WD         Normal        NaN      0  \n",
       "  2634      6   2006        WD         Normal        NaN      0  \n",
       "  2636      7   2006        WD         Normal        NaN      0  \n",
       "  2723      8   2006        WD         Normal        NaN      0  \n",
       "  2817      6   2006        WD         Normal        NaN      0  \n",
       "  2917      7   2006        WD         Normal        NaN      0  \n",
       "  \n",
       "  [48 rows x 81 columns]),\n",
       " (90,\n",
       "        MSSubClass MSZoning  LotFrontage  LotArea Street Alley LotShape  \\\n",
       "  17            90       RL         72.0    10791   Pave   NaN      Reg   \n",
       "  39            90       RL         65.0     6040   Pave   NaN      Reg   \n",
       "  52            90       RM        110.0     8472   Grvl   NaN      IR2   \n",
       "  78            90       RL         72.0    10778   Pave   NaN      Reg   \n",
       "  102           90       RL         64.0     7018   Pave   NaN      Reg   \n",
       "  ...          ...      ...          ...      ...    ...   ...      ...   \n",
       "  2828          90       RL         73.0     9069   Pave   NaN      Reg   \n",
       "  2859          90       RL         38.0     7840   Pave   NaN      IR1   \n",
       "  2897          90       RL         65.0     8385   Pave   NaN      Reg   \n",
       "  2905          90       RM         78.0     7020   Pave   NaN      Reg   \n",
       "  2908          90       RL          NaN    11836   Pave   NaN      IR1   \n",
       "  \n",
       "       LandContour Utilities LotConfig  ... PoolQC Fence MiscFeature MiscVal  \\\n",
       "  17           Lvl    AllPub    Inside  ...    NaN   NaN        Shed     500   \n",
       "  39           Lvl    AllPub    Inside  ...    NaN   NaN         NaN       0   \n",
       "  52           Bnk    AllPub    Corner  ...    NaN   NaN         NaN       0   \n",
       "  78           Lvl    AllPub    Inside  ...    NaN   NaN         NaN       0   \n",
       "  102          Bnk    AllPub    Inside  ...    NaN   NaN         NaN       0   \n",
       "  ...          ...       ...       ...  ...    ...   ...         ...     ...   \n",
       "  2828         Lvl    AllPub    Inside  ...    NaN   NaN         NaN       0   \n",
       "  2859         Lvl    AllPub   CulDSac  ...    NaN   NaN         NaN       0   \n",
       "  2897         Lvl    AllPub    Inside  ...    NaN   NaN         NaN       0   \n",
       "  2905         Lvl    AllPub    Inside  ...    NaN   NaN         NaN       0   \n",
       "  2908         Lvl    AllPub    Corner  ...    NaN   NaN         NaN       0   \n",
       "  \n",
       "       MoSold YrSold  SaleType  SaleCondition  SalePrice  Train  \n",
       "  17       10   2006        WD         Normal  11.407576      1  \n",
       "  39        6   2008        WD        AdjLand  11.314487      1  \n",
       "  52        5   2010        WD         Normal  11.608245      1  \n",
       "  78        4   2010        WD         Normal  11.824087      1  \n",
       "  102       6   2009        WD         Alloca  11.686585      1  \n",
       "  ...     ...    ...       ...            ...        ...    ...  \n",
       "  2828      4   2006        WD         Normal        NaN      0  \n",
       "  2859     10   2006        WD        AdjLand        NaN      0  \n",
       "  2897     10   2006        WD         Normal        NaN      0  \n",
       "  2905     11   2006        WD         Normal        NaN      0  \n",
       "  2908      3   2006        WD         Normal        NaN      0  \n",
       "  \n",
       "  [109 rows x 81 columns]),\n",
       " (120,\n",
       "        MSSubClass MSZoning  LotFrontage  LotArea Street Alley LotShape  \\\n",
       "  23           120       RM         44.0     4224   Pave   NaN      Reg   \n",
       "  34           120       RL         60.0     7313   Pave   NaN      Reg   \n",
       "  45           120       RL         61.0     7658   Pave   NaN      Reg   \n",
       "  62           120       RL         44.0     6442   Pave   NaN      IR1   \n",
       "  81           120       RM         32.0     4500   Pave   NaN      Reg   \n",
       "  ...          ...      ...          ...      ...    ...   ...      ...   \n",
       "  2699         120       RL         50.0     7175   Pave   NaN      Reg   \n",
       "  2712         120       FV         34.0     3628   Pave  Pave      Reg   \n",
       "  2853         120       RM         37.0     4435   Pave   NaN      Reg   \n",
       "  2894         120       RM         41.0     5748   Pave   NaN      IR1   \n",
       "  2895         120       RM         44.0     3842   Pave   NaN      IR1   \n",
       "  \n",
       "       LandContour Utilities LotConfig  ... PoolQC Fence MiscFeature MiscVal  \\\n",
       "  23           Lvl    AllPub    Inside  ...    NaN   NaN         NaN       0   \n",
       "  34           Lvl    AllPub    Inside  ...    NaN   NaN         NaN       0   \n",
       "  45           Lvl    AllPub    Inside  ...    NaN   NaN         NaN       0   \n",
       "  62           Lvl    AllPub    Inside  ...    NaN   NaN         NaN       0   \n",
       "  81           Lvl    AllPub       FR2  ...    NaN   NaN         NaN       0   \n",
       "  ...          ...       ...       ...  ...    ...   ...         ...     ...   \n",
       "  2699         Lvl    AllPub    Inside  ...    NaN   NaN         NaN       0   \n",
       "  2712         Lvl    AllPub    Inside  ...    NaN   NaN         NaN       0   \n",
       "  2853         Lvl    AllPub    Inside  ...    NaN   NaN         NaN       0   \n",
       "  2894         HLS    AllPub    Inside  ...    NaN   NaN         NaN       0   \n",
       "  2895         HLS    AllPub    Inside  ...    NaN   NaN         NaN       0   \n",
       "  \n",
       "       MoSold YrSold  SaleType  SaleCondition  SalePrice  Train  \n",
       "  23        6   2007        WD         Normal  11.774528      1  \n",
       "  34        8   2007        WD         Normal  12.533580      1  \n",
       "  45        2   2010        WD         Normal  12.675767      1  \n",
       "  62       10   2007        WD         Normal  12.218500      1  \n",
       "  81        3   2006        WD         Normal  11.941462      1  \n",
       "  ...     ...    ...       ...            ...        ...    ...  \n",
       "  2699      6   2006        WD         Normal        NaN      0  \n",
       "  2712      5   2006        WD         Normal        NaN      0  \n",
       "  2853      4   2006        WD         Normal        NaN      0  \n",
       "  2894      2   2006       New        Partial        NaN      0  \n",
       "  2895     12   2006        WD         Normal        NaN      0  \n",
       "  \n",
       "  [182 rows x 81 columns]),\n",
       " (150,\n",
       "        MSSubClass MSZoning  LotFrontage  LotArea Street Alley LotShape  \\\n",
       "  2818         150       RL          NaN     1700   Pave   NaN      Reg   \n",
       "  \n",
       "       LandContour Utilities LotConfig  ... PoolQC Fence MiscFeature MiscVal  \\\n",
       "  2818         HLS    AllPub    Inside  ...    NaN   NaN         NaN       0   \n",
       "  \n",
       "       MoSold YrSold  SaleType  SaleCondition  SalePrice  Train  \n",
       "  2818      4   2006        WD         Normal        NaN      0  \n",
       "  \n",
       "  [1 rows x 81 columns]),\n",
       " (160,\n",
       "        MSSubClass MSZoning  LotFrontage  LotArea Street Alley LotShape  \\\n",
       "  56           160       FV         24.0     2645   Pave  Pave      Reg   \n",
       "  87           160       FV         40.0     3951   Pave  Pave      Reg   \n",
       "  115          160       FV         34.0     3230   Pave  Pave      Reg   \n",
       "  145          160       RM         24.0     2522   Pave   NaN      Reg   \n",
       "  172          160       RL         44.0     5306   Pave   NaN      IR1   \n",
       "  ...          ...      ...          ...      ...    ...   ...      ...   \n",
       "  2910         160       RM         21.0     1484   Pave   NaN      Reg   \n",
       "  2912         160       RM         21.0     1533   Pave   NaN      Reg   \n",
       "  2913         160       RM         21.0     1526   Pave   NaN      Reg   \n",
       "  2914         160       RM         21.0     1936   Pave   NaN      Reg   \n",
       "  2915         160       RM         21.0     1894   Pave   NaN      Reg   \n",
       "  \n",
       "       LandContour Utilities LotConfig  ... PoolQC  Fence MiscFeature MiscVal  \\\n",
       "  56           Lvl    AllPub    Inside  ...    NaN    NaN         NaN       0   \n",
       "  87           Lvl    AllPub    Corner  ...    NaN    NaN         NaN       0   \n",
       "  115          Lvl    AllPub    Corner  ...    NaN    NaN         NaN       0   \n",
       "  145          Lvl    AllPub    Inside  ...    NaN    NaN         NaN       0   \n",
       "  172          Lvl    AllPub    Inside  ...    NaN    NaN         NaN       0   \n",
       "  ...          ...       ...       ...  ...    ...    ...         ...     ...   \n",
       "  2910         Lvl    AllPub    Inside  ...    NaN    NaN         NaN       0   \n",
       "  2912         Lvl    AllPub    Inside  ...    NaN    NaN         NaN       0   \n",
       "  2913         Lvl    AllPub    Inside  ...    NaN  GdPrv         NaN       0   \n",
       "  2914         Lvl    AllPub    Inside  ...    NaN    NaN         NaN       0   \n",
       "  2915         Lvl    AllPub    Inside  ...    NaN    NaN         NaN       0   \n",
       "  \n",
       "       MoSold YrSold  SaleType  SaleCondition  SalePrice  Train  \n",
       "  56        8   2009        WD        Abnorml  12.058158      1  \n",
       "  87        6   2009       New        Partial  12.010672      1  \n",
       "  115       6   2007        WD         Normal  12.078245      1  \n",
       "  145       4   2006        WD         Normal  11.775297      1  \n",
       "  172       6   2006        WD         Normal  12.384223      1  \n",
       "  ...     ...    ...       ...            ...        ...    ...  \n",
       "  2910      5   2006        WD         Normal        NaN      0  \n",
       "  2912     12   2006        WD        Abnorml        NaN      0  \n",
       "  2913      6   2006        WD         Normal        NaN      0  \n",
       "  2914      6   2006        WD         Normal        NaN      0  \n",
       "  2915      4   2006        WD        Abnorml        NaN      0  \n",
       "  \n",
       "  [128 rows x 81 columns]),\n",
       " (180,\n",
       "        MSSubClass MSZoning  LotFrontage  LotArea Street Alley LotShape  \\\n",
       "  75           180       RM         21.0     1596   Pave   NaN      Reg   \n",
       "  434          180       RM         21.0     1890   Pave   NaN      Reg   \n",
       "  472          180       RM         35.0     3675   Pave   NaN      Reg   \n",
       "  489          180       RM         21.0     1526   Pave   NaN      Reg   \n",
       "  614          180       RM         21.0     1491   Pave   NaN      Reg   \n",
       "  649          180       RM         21.0     1936   Pave   NaN      Reg   \n",
       "  1039         180       RM         21.0     1477   Pave   NaN      Reg   \n",
       "  1297         180       RM         35.0     3675   Pave   NaN      Reg   \n",
       "  1449         180       RM         21.0     1533   Pave   NaN      Reg   \n",
       "  1452         180       RM         35.0     3675   Pave   NaN      Reg   \n",
       "  1890         180       RM         35.0     3675   Pave   NaN      Reg   \n",
       "  2243         180       RM         21.0     1974   Pave   NaN      Reg   \n",
       "  2244         180       RM         21.0     1596   Pave   NaN      Reg   \n",
       "  2550         180       RM         35.0     3675   Pave   NaN      Reg   \n",
       "  2602         180       RM          NaN     1533   Pave   NaN      Reg   \n",
       "  2864         180       RM         35.0     3675   Pave   NaN      Reg   \n",
       "  2909         180       RM         21.0     1470   Pave   NaN      Reg   \n",
       "  \n",
       "       LandContour Utilities LotConfig  ... PoolQC  Fence MiscFeature MiscVal  \\\n",
       "  75           Lvl    AllPub    Inside  ...    NaN   GdWo         NaN       0   \n",
       "  434          Lvl    AllPub    Inside  ...    NaN    NaN         NaN       0   \n",
       "  472          Lvl    AllPub    Inside  ...    NaN    NaN         NaN       0   \n",
       "  489          Lvl    AllPub    Inside  ...    NaN    NaN         NaN       0   \n",
       "  614          Lvl    AllPub    Inside  ...    NaN    NaN         NaN       0   \n",
       "  649          Lvl    AllPub    Inside  ...    NaN  MnPrv         NaN       0   \n",
       "  1039         Lvl    AllPub    Inside  ...    NaN    NaN         NaN       0   \n",
       "  1297         Lvl    AllPub    Inside  ...    NaN    NaN         NaN       0   \n",
       "  1449         Lvl    AllPub    Inside  ...    NaN    NaN         NaN       0   \n",
       "  1452         Lvl    AllPub    Inside  ...    NaN    NaN         NaN       0   \n",
       "  1890         Lvl    AllPub    Inside  ...    NaN    NaN         NaN       0   \n",
       "  2243         Lvl    AllPub    Inside  ...    NaN    NaN         NaN       0   \n",
       "  2244         Lvl    AllPub    Inside  ...    NaN   GdWo         NaN       0   \n",
       "  2550         Lvl    AllPub    Inside  ...    NaN    NaN         NaN       0   \n",
       "  2602         Lvl    AllPub    Inside  ...    NaN    NaN         NaN       0   \n",
       "  2864         Lvl    AllPub    Inside  ...    NaN    NaN         NaN       0   \n",
       "  2909         Lvl    AllPub    Inside  ...    NaN    NaN         NaN       0   \n",
       "  \n",
       "       MoSold YrSold  SaleType  SaleCondition  SalePrice  Train  \n",
       "  75       11   2009        WD         Normal  11.418626      1  \n",
       "  434       6   2008        WD         Normal  11.302217      1  \n",
       "  472       6   2008        WD         Normal  11.904974      1  \n",
       "  489       5   2009        WD         Normal  11.362114      1  \n",
       "  614       5   2010        WD         Normal  11.231901      1  \n",
       "  649      12   2007        WD         Normal  11.344519      1  \n",
       "  1039      4   2009        WD         Normal  11.289794      1  \n",
       "  1297      6   2006       New        Partial  11.849405      1  \n",
       "  1449      8   2006        WD        Abnorml  11.429555      1  \n",
       "  1452      5   2006        WD         Normal  11.884496      1  \n",
       "  1890      4   2009        WD         Normal        NaN      0  \n",
       "  2243      6   2008        WD         Normal        NaN      0  \n",
       "  2244      7   2008        WD         Normal        NaN      0  \n",
       "  2550      5   2007        WD         Normal        NaN      0  \n",
       "  2602      7   2007        WD         Normal        NaN      0  \n",
       "  2864     10   2006       New        Partial        NaN      0  \n",
       "  2909      4   2006        WD         Normal        NaN      0  \n",
       "  \n",
       "  [17 rows x 81 columns]),\n",
       " (190,\n",
       "        MSSubClass MSZoning  LotFrontage  LotArea Street Alley LotShape  \\\n",
       "  9            190       RL         50.0     7420   Pave   NaN      Reg   \n",
       "  48           190       RM         33.0     4456   Pave   NaN      Reg   \n",
       "  93           190  C (all)         60.0     7200   Pave   NaN      Reg   \n",
       "  125          190       RM         60.0     6780   Pave   NaN      Reg   \n",
       "  165          190       RL         62.0    10106   Pave   NaN      Reg   \n",
       "  ...          ...      ...          ...      ...    ...   ...      ...   \n",
       "  2771         190       RL         70.0     7000   Pave   NaN      Reg   \n",
       "  2778         190       RM         56.0     7745   Pave  Grvl      Reg   \n",
       "  2783         190       RM         50.0     6000   Pave   NaN      Reg   \n",
       "  2874         190       RH         58.0     6430   Pave   NaN      Reg   \n",
       "  2892         190  C (all)         50.0     9000   Pave   NaN      Reg   \n",
       "  \n",
       "       LandContour Utilities LotConfig  ... PoolQC Fence MiscFeature MiscVal  \\\n",
       "  9            Lvl    AllPub    Corner  ...    NaN   NaN         NaN       0   \n",
       "  48           Lvl    AllPub    Inside  ...    NaN   NaN         NaN       0   \n",
       "  93           Lvl    AllPub    Corner  ...    NaN   NaN         NaN       0   \n",
       "  125          Lvl    AllPub    Inside  ...    NaN   NaN         NaN       0   \n",
       "  165          Lvl    AllPub    Inside  ...    NaN   NaN         NaN       0   \n",
       "  ...          ...       ...       ...  ...    ...   ...         ...     ...   \n",
       "  2771         Lvl    AllPub    Inside  ...    NaN   NaN         NaN       0   \n",
       "  2778         Lvl    AllPub    Inside  ...    NaN   NaN         NaN       0   \n",
       "  2783         Lvl    AllPub    Inside  ...    NaN   NaN         NaN       0   \n",
       "  2874         Bnk    AllPub    Corner  ...    NaN   NaN         NaN       0   \n",
       "  2892         Lvl    AllPub    Inside  ...    NaN   NaN         NaN       0   \n",
       "  \n",
       "       MoSold YrSold  SaleType  SaleCondition  SalePrice  Train  \n",
       "  9         1   2008        WD         Normal  11.678448      1  \n",
       "  48        6   2009       New        Partial  11.635152      1  \n",
       "  93       11   2007        WD         Normal  11.804856      1  \n",
       "  125       6   2006        WD         Normal  11.344519      1  \n",
       "  165       9   2008        WD         Normal  11.755879      1  \n",
       "  ...     ...    ...       ...            ...        ...    ...  \n",
       "  2771      3   2006        WD         Normal        NaN      0  \n",
       "  2778      4   2006        WD         Normal        NaN      0  \n",
       "  2783      6   2006        WD         Normal        NaN      0  \n",
       "  2874      7   2006        WD        Abnorml        NaN      0  \n",
       "  2892     10   2006        WD        Abnorml        NaN      0  \n",
       "  \n",
       "  [61 rows x 81 columns])]"
      ]
     },
     "execution_count": 33,
     "metadata": {},
     "output_type": "execute_result"
    }
   ],
   "source": [
    "grp_by_list = [g for g in df.groupby(\"MSSubClass\")]\n",
    "grp_by_list"
   ]
  },
  {
   "cell_type": "markdown",
   "metadata": {},
   "source": [
    "So for every value of MSSubClass you get the value and a filtered dataframe of all rows where MSSubClass equals that value. "
   ]
  },
  {
   "cell_type": "code",
   "execution_count": 34,
   "metadata": {},
   "outputs": [
    {
     "data": {
      "text/plain": [
       "[(20,\n",
       "  1        RL\n",
       "  6        RL\n",
       "  10       RL\n",
       "  12       RL\n",
       "  13       RL\n",
       "         ... \n",
       "  2903     RL\n",
       "  2904    NaN\n",
       "  2907     RL\n",
       "  2911     RL\n",
       "  2916     RL\n",
       "  Name: MSZoning, Length: 1079, dtype: object),\n",
       " (30,\n",
       "  29           RM\n",
       "  68           RM\n",
       "  92           RL\n",
       "  98           RL\n",
       "  106          RM\n",
       "           ...   \n",
       "  2871         RL\n",
       "  2886         RM\n",
       "  2888         RM\n",
       "  2889         RM\n",
       "  2891    C (all)\n",
       "  Name: MSZoning, Length: 139, dtype: object),\n",
       " (40,\n",
       "  164     RM\n",
       "  589     RM\n",
       "  873     RL\n",
       "  1270    RL\n",
       "  2454    RL\n",
       "  2554    RL\n",
       "  Name: MSZoning, dtype: object),\n",
       " (45,\n",
       "  15      RM\n",
       "  21      RM\n",
       "  127     RM\n",
       "  163     RL\n",
       "  325     RM\n",
       "  383     RH\n",
       "  437     RM\n",
       "  514     RL\n",
       "  555     RM\n",
       "  617     RL\n",
       "  826     RM\n",
       "  1069    RL\n",
       "  1533    RM\n",
       "  2079    RL\n",
       "  2118    RM\n",
       "  2397    RL\n",
       "  2458    RM\n",
       "  2467    RM\n",
       "  Name: MSZoning, dtype: object),\n",
       " (50,\n",
       "  5            RL\n",
       "  8            RM\n",
       "  46           RL\n",
       "  51           RM\n",
       "  69           RL\n",
       "           ...   \n",
       "  2881         RL\n",
       "  2882         RL\n",
       "  2887         RM\n",
       "  2890         RM\n",
       "  2893    C (all)\n",
       "  Name: MSZoning, Length: 287, dtype: object),\n",
       " (60,\n",
       "  0       RL\n",
       "  2       RL\n",
       "  4       RL\n",
       "  7       RL\n",
       "  11      RL\n",
       "          ..\n",
       "  2856    RL\n",
       "  2861    RL\n",
       "  2863    RL\n",
       "  2885    RL\n",
       "  2918    RL\n",
       "  Name: MSZoning, Length: 575, dtype: object),\n",
       " (70,\n",
       "  3            RL\n",
       "  30      C (all)\n",
       "  63           RM\n",
       "  114          RL\n",
       "  181          RL\n",
       "           ...   \n",
       "  2875         RL\n",
       "  2876         RL\n",
       "  2877         RL\n",
       "  2883         RL\n",
       "  2884         RL\n",
       "  Name: MSZoning, Length: 128, dtype: object),\n",
       " (75,\n",
       "  61      RM\n",
       "  185     RM\n",
       "  197     RL\n",
       "  198     RM\n",
       "  267     RL\n",
       "  304     RM\n",
       "  328     RL\n",
       "  583     RM\n",
       "  735     RM\n",
       "  784     RM\n",
       "  809     RM\n",
       "  852     RL\n",
       "  883     RL\n",
       "  1031    RL\n",
       "  1197    RM\n",
       "  1248    RM\n",
       "  1542    RL\n",
       "  1995    RL\n",
       "  2089    RM\n",
       "  2101    RM\n",
       "  2451    RM\n",
       "  2788    RM\n",
       "  2822    RL\n",
       "  Name: MSZoning, dtype: object),\n",
       " (80,\n",
       "  54      RL\n",
       "  84      RL\n",
       "  111     RL\n",
       "  120     RL\n",
       "  186     RL\n",
       "          ..\n",
       "  2808    RL\n",
       "  2811    RL\n",
       "  2823    RL\n",
       "  2843    RL\n",
       "  2899    RL\n",
       "  Name: MSZoning, Length: 118, dtype: object),\n",
       " (85,\n",
       "  42      RL\n",
       "  360     RL\n",
       "  362     RL\n",
       "  376     RL\n",
       "  547     RL\n",
       "  587     RL\n",
       "  615     RL\n",
       "  663     RL\n",
       "  770     RL\n",
       "  783     RL\n",
       "  845     RL\n",
       "  878     RL\n",
       "  952     RL\n",
       "  980     RL\n",
       "  1085    RL\n",
       "  1214    RL\n",
       "  1242    RL\n",
       "  1392    RL\n",
       "  1406    RL\n",
       "  1445    RL\n",
       "  1516    RL\n",
       "  1578    RL\n",
       "  1754    RL\n",
       "  1836    RM\n",
       "  1843    RL\n",
       "  1917    RL\n",
       "  1918    RL\n",
       "  1928    RL\n",
       "  1930    RL\n",
       "  2137    RL\n",
       "  2140    RL\n",
       "  2142    RL\n",
       "  2184    RL\n",
       "  2240    RL\n",
       "  2379    RL\n",
       "  2403    RL\n",
       "  2437    RL\n",
       "  2477    RL\n",
       "  2542    RL\n",
       "  2583    RL\n",
       "  2588    RL\n",
       "  2605    RL\n",
       "  2609    RL\n",
       "  2634    RL\n",
       "  2636    RL\n",
       "  2723    RL\n",
       "  2817    RL\n",
       "  2917    RL\n",
       "  Name: MSZoning, dtype: object),\n",
       " (90,\n",
       "  17      RL\n",
       "  39      RL\n",
       "  52      RM\n",
       "  78      RL\n",
       "  102     RL\n",
       "          ..\n",
       "  2828    RL\n",
       "  2859    RL\n",
       "  2897    RL\n",
       "  2905    RM\n",
       "  2908    RL\n",
       "  Name: MSZoning, Length: 109, dtype: object),\n",
       " (120,\n",
       "  23      RM\n",
       "  34      RL\n",
       "  45      RL\n",
       "  62      RL\n",
       "  81      RM\n",
       "          ..\n",
       "  2699    RL\n",
       "  2712    FV\n",
       "  2853    RM\n",
       "  2894    RM\n",
       "  2895    RM\n",
       "  Name: MSZoning, Length: 182, dtype: object),\n",
       " (150,\n",
       "  2818    RL\n",
       "  Name: MSZoning, dtype: object),\n",
       " (160,\n",
       "  56      FV\n",
       "  87      FV\n",
       "  115     FV\n",
       "  145     RM\n",
       "  172     RL\n",
       "          ..\n",
       "  2910    RM\n",
       "  2912    RM\n",
       "  2913    RM\n",
       "  2914    RM\n",
       "  2915    RM\n",
       "  Name: MSZoning, Length: 128, dtype: object),\n",
       " (180,\n",
       "  75      RM\n",
       "  434     RM\n",
       "  472     RM\n",
       "  489     RM\n",
       "  614     RM\n",
       "  649     RM\n",
       "  1039    RM\n",
       "  1297    RM\n",
       "  1449    RM\n",
       "  1452    RM\n",
       "  1890    RM\n",
       "  2243    RM\n",
       "  2244    RM\n",
       "  2550    RM\n",
       "  2602    RM\n",
       "  2864    RM\n",
       "  2909    RM\n",
       "  Name: MSZoning, dtype: object),\n",
       " (190,\n",
       "  9            RL\n",
       "  48           RM\n",
       "  93      C (all)\n",
       "  125          RM\n",
       "  165          RL\n",
       "           ...   \n",
       "  2771         RL\n",
       "  2778         RM\n",
       "  2783         RM\n",
       "  2874         RH\n",
       "  2892    C (all)\n",
       "  Name: MSZoning, Length: 61, dtype: object)]"
      ]
     },
     "execution_count": 34,
     "metadata": {},
     "output_type": "execute_result"
    }
   ],
   "source": [
    "grp_by_list2 = [g for g in df.groupby(\"MSSubClass\")['MSZoning']]\n",
    "grp_by_list2"
   ]
  },
  {
   "cell_type": "markdown",
   "metadata": {},
   "source": [
    "Limiting it to just the MSZoning values"
   ]
  },
  {
   "cell_type": "code",
   "execution_count": 35,
   "metadata": {},
   "outputs": [
    {
     "data": {
      "text/plain": [
       "MSSubClass\n",
       "20     RL\n",
       "30     RM\n",
       "40     RL\n",
       "45     RM\n",
       "50     RL\n",
       "60     RL\n",
       "70     RM\n",
       "75     RM\n",
       "80     RL\n",
       "85     RL\n",
       "90     RL\n",
       "120    RL\n",
       "150    RL\n",
       "160    RM\n",
       "180    RM\n",
       "190    RL\n",
       "Name: MSZoning, dtype: object"
      ]
     },
     "execution_count": 35,
     "metadata": {},
     "output_type": "execute_result"
    }
   ],
   "source": [
    "df.groupby('MSSubClass')['MSZoning'].apply(lambda x: x.mode()[0])"
   ]
  },
  {
   "cell_type": "markdown",
   "metadata": {},
   "source": [
    "Now instead of getting a list of MSZoning values we get just the most common value. To frame converts the series to a dataframe which looks much nicer in a jupyter notebook."
   ]
  },
  {
   "cell_type": "code",
   "execution_count": 36,
   "metadata": {},
   "outputs": [
    {
     "name": "stdout",
     "output_type": "stream",
     "text": [
      "0 nulls remain\n"
     ]
    }
   ],
   "source": [
    "df = fill_nulls1(df)"
   ]
  },
  {
   "cell_type": "markdown",
   "metadata": {},
   "source": [
    "All nulls removed"
   ]
  },
  {
   "cell_type": "markdown",
   "metadata": {},
   "source": [
    "### Skewed Features\n",
    "After taking a log transformation of the target variable, the next action that had the biggest impact is probably taking a boxcox transformation of skewed features. GrLivArea is a great example of a skewed feature."
   ]
  },
  {
   "cell_type": "code",
   "execution_count": 37,
   "metadata": {},
   "outputs": [],
   "source": [
    "def examine_feature(data, feature, target, std_count=3, show_outliers=False): \n",
    "    df = data.copy()\n",
    "    \n",
    "    fig = plt.figure(constrained_layout=True, figsize=(14,7))\n",
    "    grid = gridspec.GridSpec(ncols=5, nrows=4, figure=fig)\n",
    "    \n",
    "    ## Customizing the histogram grid. \n",
    "    ax1 = fig.add_subplot(grid[0, 2:4])\n",
    "    ax1.set_title('Histogram') \n",
    "    sns.distplot(df.loc[:,feature], norm_hist=True, ax = ax1, fit=norm)\n",
    "\n",
    "    # scatterplot\n",
    "    upper_boundary = df[feature].mean() + std_count * df[feature].std()\n",
    "    lower_boundary = df[feature].mean() - std_count * df[feature].std()\n",
    "    \n",
    "    df['Outlier'] = np.where((df[feature] > upper_boundary) | (df[feature] < lower_boundary), 'Outlier', 'Non-Outlier')\n",
    "    ax2 = fig.add_subplot(grid[1, 2:4]) \n",
    "    ax2.set_title(f'Scatter Plot vs {target}') \n",
    "    ax2.axvline(upper_boundary, color='g', alpha=0.3)\n",
    "    ax2.axvline(lower_boundary, color='g', alpha=0.3)\n",
    "    sns.scatterplot(data=df, x=feature, y=target, hue='Outlier', ax=ax2)\n",
    "#     sns.lmplot(data=df, x=feature, y=target, hue='Outlier', ax=ax2)\n",
    "\n",
    "    ## Customizing the Box Plot. \n",
    "    ax3 = fig.add_subplot(grid[:, 4])\n",
    "    ax3.set_title('Box Plot')\n",
    "    ax3.axhline(upper_boundary, color='g', alpha=0.3)\n",
    "    ax3.axhline(lower_boundary, color='g', alpha=0.3)\n",
    "    sns.boxplot(df.loc[:,feature], orient='v', ax = ax3 )\n",
    "    \n",
    "    my_corrs = df.corr()[feature].sort_values(ascending=False)[1:11].to_frame()\n",
    "    \n",
    "    ax4 = fig.add_subplot(grid[:, 0]) \n",
    "    ax4.set_title(feature.upper() + ' PLOTS:\\n Correlations')\n",
    "    sns.heatmap(data=my_corrs, annot=True, cbar=False)\n",
    "    \n",
    "    plt.show()\n",
    "    \n",
    "    if show_outliers:\n",
    "        print('Outliers\\n----------------')\n",
    "        return df.loc[df.Outlier=='Outlier', [feature, 'SalePrice', 'OverallQual', 'OverallCond', \n",
    "                                              'GarageCars', 'Functional']].sort_values(by=feature)"
   ]
  },
  {
   "cell_type": "code",
   "execution_count": 38,
   "metadata": {
    "scrolled": false
   },
   "outputs": [
    {
     "data": {
      "image/png": "[encoded data removed]",
      "text/plain": [
       "<Figure size 1008x504 with 4 Axes>"
      ]
     },
     "metadata": {
      "needs_background": "light"
     },
     "output_type": "display_data"
    }
   ],
   "source": [
    "examine_feature(df, 'GrLivArea', 'SalePrice', 3, False)"
   ]
  },
  {
   "cell_type": "markdown",
   "metadata": {},
   "source": [
    "We can see GrLivArea is skewed to the right with some really large houses apparently."
   ]
  },
  {
   "cell_type": "code",
   "execution_count": 39,
   "metadata": {},
   "outputs": [
    {
     "name": "stdout",
     "output_type": "stream",
     "text": [
      "skewed features\n",
      " Index(['MiscVal', 'PoolArea', 'LotArea', 'LowQualFinSF', '3SsnPorch',\n",
      "       'KitchenAbvGr', 'BsmtFinSF2', 'EnclosedPorch', 'ScreenPorch',\n",
      "       'BsmtHalfBath', 'MasVnrArea', 'OpenPorchSF', 'WoodDeckSF', '1stFlrSF',\n",
      "       'LotFrontage', 'BsmtFinSF1', 'GrLivArea', 'TotalBsmtSF', 'BsmtUnfSF',\n",
      "       '2ndFlrSF', 'TotRmsAbvGrd', 'GarageYrBlt'],\n",
      "      dtype='object') \n",
      "\n",
      "lambdas used\n",
      "\n",
      "{'MiscVal': 0.2, 'PoolArea': 0.2, 'LotArea': 0.1300615674135057, 'LowQualFinSF': 0.2, '3SsnPorch': 0.2, 'KitchenAbvGr': 0.2, 'BsmtFinSF2': 0.2, 'EnclosedPorch': 0.2, 'ScreenPorch': 0.2, 'BsmtHalfBath': 0.2, 'MasVnrArea': 0.2, 'OpenPorchSF': 0.2, 'WoodDeckSF': 0.2, '1stFlrSF': -0.06241247624480627, 'LotFrontage': 0.5912076662674711, 'BsmtFinSF1': 0.2, 'GrLivArea': -0.011741655231629719, 'TotalBsmtSF': 0.2, 'BsmtUnfSF': 0.2, '2ndFlrSF': 0.2, 'TotRmsAbvGrd': 0.10514676751530015, 'GarageYrBlt': 0.2}\n"
     ]
    }
   ],
   "source": [
    "def fix_skew(df, threshold=.75): \n",
    "    num_cols = df.dtypes[df.dtypes != \"object\"].index\n",
    "\n",
    "    # Check the skew of all numerical features\n",
    "    skewed_feats = df[num_cols].apply(lambda x: skew(x)).sort_values(ascending=False)\n",
    "    high_skew = skewed_feats[abs(skewed_feats) > threshold]\n",
    "    skewed_features = high_skew.index\n",
    "    print('skewed features\\n', skewed_features, '\\n')\n",
    "    \n",
    "    lam_d = {}\n",
    "\n",
    "    for feat in skewed_features:\n",
    "        if df[feat].min() > 0:\n",
    "            x, lam = stats.boxcox(df[feat])\n",
    "            lam_d[feat] = lam\n",
    "            df[feat] = x\n",
    "        else:\n",
    "            lam_d[feat] = 0.2\n",
    "            df[feat] = boxcox1p(df[feat], 0.2)\n",
    "    \n",
    "    print('lambdas used\\n')\n",
    "    print(lam_d)\n",
    "    return df, skewed_features\n",
    "        \n",
    "df, skewed_feats = fix_skew(df)"
   ]
  },
  {
   "cell_type": "markdown",
   "metadata": {},
   "source": [
    "I tried using boxcox_normax to find the ideal value for lam but it just doesn't work as well as just using 0.2 for features that contain 0. Stats.boxcox is nice because it finds the idea value of lam for you, but it doesn't work with features that contain a 0."
   ]
  },
  {
   "cell_type": "code",
   "execution_count": 40,
   "metadata": {
    "scrolled": false
   },
   "outputs": [
    {
     "data": {
      "image/png": "[encoded data removed]",
      "text/plain": [
       "<Figure size 1008x504 with 4 Axes>"
      ]
     },
     "metadata": {
      "needs_background": "light"
     },
     "output_type": "display_data"
    },
    {
     "name": "stdout",
     "output_type": "stream",
     "text": [
      "Outliers\n",
      "----------------\n"
     ]
    },
    {
     "data": {
      "text/html": [
       "<div>\n",
       "<style scoped>\n",
       "    .dataframe tbody tr th:only-of-type {\n",
       "        vertical-align: middle;\n",
       "    }\n",
       "\n",
       "    .dataframe tbody tr th {\n",
       "        vertical-align: top;\n",
       "    }\n",
       "\n",
       "    .dataframe thead th {\n",
       "        text-align: right;\n",
       "    }\n",
       "</style>\n",
       "<table border=\"1\" class=\"dataframe\">\n",
       "  <thead>\n",
       "    <tr style=\"text-align: right;\">\n",
       "      <th></th>\n",
       "      <th>GrLivArea</th>\n",
       "      <th>SalePrice</th>\n",
       "      <th>OverallQual</th>\n",
       "      <th>OverallCond</th>\n",
       "      <th>GarageCars</th>\n",
       "      <th>Functional</th>\n",
       "    </tr>\n",
       "  </thead>\n",
       "  <tbody>\n",
       "    <tr>\n",
       "      <th>533</th>\n",
       "      <td>5.617320</td>\n",
       "      <td>10.579005</td>\n",
       "      <td>1</td>\n",
       "      <td>3</td>\n",
       "      <td>0.0</td>\n",
       "      <td>Typ</td>\n",
       "    </tr>\n",
       "    <tr>\n",
       "      <th>2098</th>\n",
       "      <td>5.801740</td>\n",
       "      <td>NaN</td>\n",
       "      <td>2</td>\n",
       "      <td>5</td>\n",
       "      <td>1.0</td>\n",
       "      <td>Typ</td>\n",
       "    </tr>\n",
       "    <tr>\n",
       "      <th>1100</th>\n",
       "      <td>5.870116</td>\n",
       "      <td>11.002117</td>\n",
       "      <td>2</td>\n",
       "      <td>5</td>\n",
       "      <td>1.0</td>\n",
       "      <td>Typ</td>\n",
       "    </tr>\n",
       "    <tr>\n",
       "      <th>916</th>\n",
       "      <td>5.955326</td>\n",
       "      <td>10.471978</td>\n",
       "      <td>2</td>\n",
       "      <td>3</td>\n",
       "      <td>1.0</td>\n",
       "      <td>Typ</td>\n",
       "    </tr>\n",
       "    <tr>\n",
       "      <th>2785</th>\n",
       "      <td>5.978289</td>\n",
       "      <td>NaN</td>\n",
       "      <td>3</td>\n",
       "      <td>5</td>\n",
       "      <td>1.0</td>\n",
       "      <td>Typ</td>\n",
       "    </tr>\n",
       "    <tr>\n",
       "      <th>2871</th>\n",
       "      <td>5.989559</td>\n",
       "      <td>NaN</td>\n",
       "      <td>2</td>\n",
       "      <td>3</td>\n",
       "      <td>1.0</td>\n",
       "      <td>Typ</td>\n",
       "    </tr>\n",
       "    <tr>\n",
       "      <th>29</th>\n",
       "      <td>6.029737</td>\n",
       "      <td>11.134604</td>\n",
       "      <td>4</td>\n",
       "      <td>6</td>\n",
       "      <td>1.0</td>\n",
       "      <td>Typ</td>\n",
       "    </tr>\n",
       "    <tr>\n",
       "      <th>2188</th>\n",
       "      <td>7.861202</td>\n",
       "      <td>NaN</td>\n",
       "      <td>5</td>\n",
       "      <td>7</td>\n",
       "      <td>2.0</td>\n",
       "      <td>Typ</td>\n",
       "    </tr>\n",
       "    <tr>\n",
       "      <th>691</th>\n",
       "      <td>7.971933</td>\n",
       "      <td>13.534474</td>\n",
       "      <td>10</td>\n",
       "      <td>6</td>\n",
       "      <td>3.0</td>\n",
       "      <td>Typ</td>\n",
       "    </tr>\n",
       "    <tr>\n",
       "      <th>1182</th>\n",
       "      <td>8.004920</td>\n",
       "      <td>13.521141</td>\n",
       "      <td>10</td>\n",
       "      <td>5</td>\n",
       "      <td>3.0</td>\n",
       "      <td>Typ</td>\n",
       "    </tr>\n",
       "    <tr>\n",
       "      <th>523</th>\n",
       "      <td>8.044514</td>\n",
       "      <td>12.126764</td>\n",
       "      <td>10</td>\n",
       "      <td>5</td>\n",
       "      <td>3.0</td>\n",
       "      <td>Typ</td>\n",
       "    </tr>\n",
       "    <tr>\n",
       "      <th>2549</th>\n",
       "      <td>8.122186</td>\n",
       "      <td>NaN</td>\n",
       "      <td>10</td>\n",
       "      <td>5</td>\n",
       "      <td>3.0</td>\n",
       "      <td>Typ</td>\n",
       "    </tr>\n",
       "    <tr>\n",
       "      <th>1298</th>\n",
       "      <td>8.214384</td>\n",
       "      <td>11.982935</td>\n",
       "      <td>10</td>\n",
       "      <td>5</td>\n",
       "      <td>2.0</td>\n",
       "      <td>Typ</td>\n",
       "    </tr>\n",
       "  </tbody>\n",
       "</table>\n",
       "</div>"
      ],
      "text/plain": [
       "      GrLivArea  SalePrice  OverallQual  OverallCond  GarageCars Functional\n",
       "533    5.617320  10.579005            1            3         0.0        Typ\n",
       "2098   5.801740        NaN            2            5         1.0        Typ\n",
       "1100   5.870116  11.002117            2            5         1.0        Typ\n",
       "916    5.955326  10.471978            2            3         1.0        Typ\n",
       "2785   5.978289        NaN            3            5         1.0        Typ\n",
       "2871   5.989559        NaN            2            3         1.0        Typ\n",
       "29     6.029737  11.134604            4            6         1.0        Typ\n",
       "2188   7.861202        NaN            5            7         2.0        Typ\n",
       "691    7.971933  13.534474           10            6         3.0        Typ\n",
       "1182   8.004920  13.521141           10            5         3.0        Typ\n",
       "523    8.044514  12.126764           10            5         3.0        Typ\n",
       "2549   8.122186        NaN           10            5         3.0        Typ\n",
       "1298   8.214384  11.982935           10            5         2.0        Typ"
      ]
     },
     "execution_count": 40,
     "metadata": {},
     "output_type": "execute_result"
    }
   ],
   "source": [
    "examine_feature(df, 'GrLivArea', 'SalePrice', 3, True)"
   ]
  },
  {
   "cell_type": "markdown",
   "metadata": {},
   "source": [
    "You can see a big difference in the distribution and outliers of GrLivArea skewed vs transformed. DBScan run later will find outlier 1298. We will signify 691 and 1182 as outliers to be removed. Strangely, removing outlier 523 hurts the score. Not sure why, it clearly looks to be an outlier. It is one of the largest houses in the dataset with OverallQual of 10 and yet it sells for an average price."
   ]
  },
  {
   "cell_type": "code",
   "execution_count": 41,
   "metadata": {},
   "outputs": [],
   "source": [
    "grlivarea_outliers = [691, 1182]"
   ]
  },
  {
   "cell_type": "markdown",
   "metadata": {},
   "source": [
    "### Feature Types"
   ]
  },
  {
   "cell_type": "code",
   "execution_count": 42,
   "metadata": {},
   "outputs": [
    {
     "name": "stdout",
     "output_type": "stream",
     "text": [
      "There are 18 continuous variables\n",
      "There are 13 discrete variables\n",
      "There are 4 temporal variables\n",
      "There are 44 categorical variables\n"
     ]
    }
   ],
   "source": [
    "# borrowed from Feature Engineering Udemy course\n",
    "categorical = [var for var in df.columns if df[var].dtype == 'O']\n",
    "\n",
    "year_vars = [var for var in df.columns if 'Yr' in var or 'Year' in var]\n",
    "\n",
    "discrete = [\n",
    "    var for var in df.columns if df[var].dtype != 'O'\n",
    "    and len(df[var].unique()) < 20 and var not in year_vars\n",
    "    and var != 'Train'\n",
    "]\n",
    "\n",
    "numerical = [\n",
    "    var for var in df.columns if df[var].dtype != 'O'\n",
    "    if var not in discrete and var not in ['Id', 'SalePrice', 'Train']\n",
    "    and var not in year_vars\n",
    "]\n",
    "\n",
    "print('There are {} continuous variables'.format(len(numerical)))\n",
    "print('There are {} discrete variables'.format(len(discrete)))\n",
    "print('There are {} temporal variables'.format(len(year_vars)))\n",
    "print('There are {} categorical variables'.format(len(categorical)))"
   ]
  },
  {
   "cell_type": "code",
   "execution_count": 43,
   "metadata": {},
   "outputs": [
    {
     "data": {
      "text/plain": [
       "['OverallQual',\n",
       " 'OverallCond',\n",
       " 'BsmtFullBath',\n",
       " 'FullBath',\n",
       " 'HalfBath',\n",
       " 'BedroomAbvGr',\n",
       " 'Fireplaces',\n",
       " 'GarageCars',\n",
       " 'MoSold']"
      ]
     },
     "execution_count": 43,
     "metadata": {},
     "output_type": "execute_result"
    }
   ],
   "source": [
    "# skewed features handled. Need to look at discrete features that weren't handled\n",
    "remain_discrete = [x for x in discrete if x not in skewed_feats]\n",
    "remain_discrete"
   ]
  },
  {
   "cell_type": "code",
   "execution_count": 44,
   "metadata": {},
   "outputs": [],
   "source": [
    "if discrete_to_categorical:\n",
    "    df[remain_discrete] = df[remain_discrete].astype('O')"
   ]
  },
  {
   "cell_type": "code",
   "execution_count": 45,
   "metadata": {},
   "outputs": [],
   "source": [
    "cat_encode_list = categorical + remain_discrete\n",
    "\n",
    "# the following don't have enough values to be worth categorical encoding. In fact will error\n",
    "# because labels exist in train that are not in holdout\n",
    "cat_encode_list.remove('MSSubClass')\n",
    "cat_encode_list.remove('FullBath')\n",
    "cat_encode_list.remove('Fireplaces')\n",
    "cat_encode_list.remove('GarageCars')\n",
    "    \n",
    "at_least_5 = [x for x in cat_encode_list if df.loc[df.Train==1, x].nunique() >= 5]\n",
    "at_least_5.sort()\n",
    "# at_least_5"
   ]
  },
  {
   "cell_type": "markdown",
   "metadata": {},
   "source": [
    "Will use Ordered Integer Encoding on cat_encode_list"
   ]
  },
  {
   "cell_type": "markdown",
   "metadata": {},
   "source": [
    "### Ordered Integer Encoding\n",
    "Ordered integer encoding transforms existing values into integer list 1, 2, 3... in order of mean sale price for each value. This creates a linear or at least monotonic (always increasing or always decreasing) relationship between the feature and the target. This is useful for categorical variables because these values need to be numerical and putting them in order of avg SalePrice gives it as close to a linear relationship with SalePrice as you can get.<br>\n",
    "\n",
    "We also encode some discrete values this way if they are not in a good order. Below is an example using Neighborhood. I learned Ordered Int Encoding from the Feature Engineering Udemy course. It is easy to understand and made a big difference in the Kaggle score. Glad I took the course!"
   ]
  },
  {
   "cell_type": "code",
   "execution_count": 46,
   "metadata": {
    "scrolled": false
   },
   "outputs": [
    {
     "data": {
      "image/png": "[encoded data removed]",
      "text/plain": [
       "<Figure size 1008x576 with 1 Axes>"
      ]
     },
     "metadata": {
      "needs_background": "light"
     },
     "output_type": "display_data"
    }
   ],
   "source": [
    "plt.figure(figsize=(14,8))\n",
    "sns.boxplot(data=df[df.Train==1], x='Neighborhood', y='SalePrice')\n",
    "plt.xticks(rotation=45)\n",
    "plt.show()"
   ]
  },
  {
   "cell_type": "markdown",
   "metadata": {},
   "source": [
    "This is the \"before\" graph of neighborhood. You can see that there is a big difference in distributions of SalePrice from one Neighborhood to the next, but it is not in a nice order and we want the values for Neighborhood to be numerical."
   ]
  },
  {
   "cell_type": "code",
   "execution_count": 47,
   "metadata": {},
   "outputs": [],
   "source": [
    "def find_category_mappings(df, variable, target):\n",
    "\n",
    "    # first  we generate an ordered list with the labels\n",
    "    ordered_labels = df.groupby([variable])[target].mean().sort_values().index\n",
    "\n",
    "    # return the dictionary with mappings\n",
    "    return {k: i for i, k in enumerate(ordered_labels, 0)}\n",
    "    \n",
    "def integer_encode(df, feature, ordinal_mapping):\n",
    "    df[feature] = df[feature].map(ordinal_mapping)\n",
    "    return df"
   ]
  },
  {
   "cell_type": "code",
   "execution_count": 48,
   "metadata": {},
   "outputs": [],
   "source": [
    "# df['Hood'] = df.Neighborhood # want it to be one hot encoded later ... didn't work :( \n",
    "\n",
    "for feat in cat_encode_list:\n",
    "    mappings = find_category_mappings(df[df.Train==1], feat, 'SalePrice')\n",
    "    df = integer_encode(df, feat, mappings)"
   ]
  },
  {
   "cell_type": "markdown",
   "metadata": {},
   "source": [
    "Neighborhood after encoding. Much nicer!"
   ]
  },
  {
   "cell_type": "code",
   "execution_count": 49,
   "metadata": {
    "scrolled": false
   },
   "outputs": [
    {
     "data": {
      "image/png": "[encoded data removed]",
      "text/plain": [
       "<Figure size 1008x576 with 1 Axes>"
      ]
     },
     "metadata": {
      "needs_background": "light"
     },
     "output_type": "display_data"
    }
   ],
   "source": [
    "plt.figure(figsize=(14,8))\n",
    "sns.boxplot(data=df[df.Train==1], x='Neighborhood', y='SalePrice')\n",
    "plt.show()"
   ]
  },
  {
   "cell_type": "markdown",
   "metadata": {},
   "source": [
    "### Create New Features and Drop Existing Features\n",
    "This is the fun part! But it can also be very frustrating. When you create a new feature it can affect the optimal values of model parameters, model weighted averages for blended prices, and other parameters. So you can end up optimizing everything based on the new feature only to find it doesn't improve the overall score. But those times that do improve the score make it all worthwhile :)<br>\n",
    "\n",
    "The basic premise seems to be people like big quality homes in good condition in nice neighborhoods. They also seem to like historic homes but not necessarily homes that are just old."
   ]
  },
  {
   "cell_type": "code",
   "execution_count": 50,
   "metadata": {},
   "outputs": [],
   "source": [
    "df['TotalSF'] = (df['TotalBsmtSF'] \n",
    "                       + df['1stFlrSF'] \n",
    "                       + df['2ndFlrSF'])\n",
    "\n",
    "df['YrBltAndRemod'] = df['YearBuilt'] + df['YearRemodAdd']\n",
    "                                 \n",
    "\n",
    "df['Total_Bathrooms'] = (df['FullBath'] \n",
    "                               + (0.5 * df['HalfBath']) \n",
    "                               + df['BsmtFullBath'] \n",
    "                               + (0.5 * df['BsmtHalfBath'])\n",
    "                              )\n",
    "\n",
    "# adding Qual and Cond works better than multiplying them. Don't know why.\n",
    "df['QualCond'] = df.OverallQual + df.OverallCond\n",
    "df['ExterQualCond'] = df.ExterQual + df.ExterCond\n",
    "df['GarageQualCond'] = df.GarageQual + df.GarageCond\n",
    "df['BsmtQualCond'] = df.BsmtQual + df.BsmtCond\n",
    "\n",
    "df['haspool'] = df['PoolArea'].apply(lambda x: 1 if x > 0 else 0)\n",
    "df['has2ndfloor'] = df['2ndFlrSF'].apply(lambda x: 1 if x > 0 else 0)\n",
    "df['hasgarage'] = df['GarageArea'].apply(lambda x: 1 if x > 0 else 0)\n",
    "df['hasbsmt'] = df['TotalBsmtSF'].apply(lambda x: 1 if x > 0 else 0)\n",
    "df['hasfireplace'] = df['Fireplaces'].apply(lambda x: 1 if x > 0 else 0)\n",
    "    \n",
    "df['house_age'] = df.YrSold - df.YearBuilt\n",
    "df['garage_age'] = df.YrSold - df.GarageYrBlt\n",
    "df['old_house'] = np.where(df.YearBuilt < 1900, 1, 0)\n",
    "\n",
    "# from feature engineering course udemy\n",
    "def find_category_mappings(df, variable, target):\n",
    "    return df.groupby([variable])[target].mean().to_dict()\n",
    "\n",
    "# lots of big homes in the neighborhood? How does the home compare to the neighborhood in this regard?\n",
    "hm = find_category_mappings(df[df.Train==1], 'Neighborhood', 'GrLivArea')\n",
    "df['avg_grlivarea_hood'] = df.Neighborhood.map(hm)\n",
    "df['grlivarea_vs_hood_avg'] = (df.GrLivArea / df.avg_grlivarea_hood)\n",
    "df['gt_avg_area_hood'] = np.where(df.GrLivArea > df.avg_grlivarea_hood, 1, 0)\n",
    "\n",
    "# features dominated by one value\n",
    "df.drop(['Utilities', 'Street', 'PoolQC'], axis=1, inplace=True)"
   ]
  },
  {
   "cell_type": "markdown",
   "metadata": {},
   "source": [
    "I love np.where, used for df.old_house above, and find myself using it more and more and avoiding the apply method if I can. It is easier for me to remember how it works."
   ]
  },
  {
   "cell_type": "markdown",
   "metadata": {},
   "source": [
    "Tried polynomials. Does not seem to help. You find them in many of the Kaggle notebooks."
   ]
  },
  {
   "cell_type": "code",
   "execution_count": 51,
   "metadata": {},
   "outputs": [],
   "source": [
    "# df['OverallQual_2'] = df.OverallQual ** 2\n",
    "# df['OverallQual_3'] = df.OverallQual ** 3\n",
    "# df['OverallQual_sqrt'] = np.sqrt(df.OverallQual)"
   ]
  },
  {
   "cell_type": "markdown",
   "metadata": {},
   "source": [
    "### One Hot Encoding\n",
    "The feature_engine object was created for the Udemy Feature Engineering course. It seems to work pretty well so I use it here. The other options are the sklearn hot encoding object or just using pd.get_dummies. The latter is the simplest but feature_engine does give a better Kaggle score. Here is the documentation [feature engine](https://feature-engine.readthedocs.io/en/latest/)"
   ]
  },
  {
   "cell_type": "code",
   "execution_count": 52,
   "metadata": {},
   "outputs": [],
   "source": [
    "from feature_engine.categorical_encoders import OneHotCategoricalEncoder\n",
    "\n",
    "ohe_enc = OneHotCategoricalEncoder(\n",
    "    top_categories=None,\n",
    "    drop_last=True) # to return k-1, false to return k\n",
    "\n",
    "# # fit on train then encode both\n",
    "ohe_enc.fit(df[df.Train==1])\n",
    "\n",
    "df = ohe_enc.transform(df)"
   ]
  },
  {
   "cell_type": "markdown",
   "metadata": {},
   "source": [
    "### Remove Overfitted Features\n",
    "I borrowed this function directly from one of the Kaggle notebooks. Unfortunately I don't remember which one. Interesting that the threshold is so high."
   ]
  },
  {
   "cell_type": "code",
   "execution_count": 53,
   "metadata": {},
   "outputs": [
    {
     "name": "stdout",
     "output_type": "stream",
     "text": [
      "['Total_Bathrooms_1.1143273490387933']\n"
     ]
    }
   ],
   "source": [
    "def overfit_reducer(df, threshold=99.94):\n",
    "    overfit = []\n",
    "    for i in df.columns:\n",
    "        counts = df[i].value_counts()\n",
    "        zeros = counts.iloc[0]\n",
    "        if zeros / len(df) * 100 > overfit_threshold:\n",
    "            overfit.append(i)\n",
    "    overfit = list(overfit)\n",
    "    return overfit\n",
    "\n",
    "overfitted_features = overfit_reducer(df, overfit_threshold)\n",
    "print(overfitted_features)\n",
    "df = df.drop(overfitted_features, axis=1)"
   ]
  },
  {
   "cell_type": "markdown",
   "metadata": {},
   "source": [
    "Only one feature was removed. We can also see that feature engine did something interesting with Total_Bathrooms. There was no original value of 1.1143... "
   ]
  },
  {
   "cell_type": "markdown",
   "metadata": {},
   "source": [
    "### Outliers\n",
    "This is another area that makes a big difference. Lots of different ways of identifying outliers and hard to pick the perfect list. However, removing certain rows from the train data can improve the overall performance of the models.<br>\n",
    "\n",
    "Tried a number of different techniques to identify outliers and dbscan worked the best. The trick is there is a narrow range of parameter values that will give you good results. Most combinations will identify no outliers or identify all records as outliers."
   ]
  },
  {
   "cell_type": "code",
   "execution_count": 54,
   "metadata": {},
   "outputs": [],
   "source": [
    "# found earlier by visually inspecting the data\n",
    "df.drop(grlivarea_outliers, axis=0, inplace=True)"
   ]
  },
  {
   "cell_type": "code",
   "execution_count": 55,
   "metadata": {},
   "outputs": [],
   "source": [
    "def remove_outliers_dbscan(df, eps=40, min_samples=80):\n",
    "    from sklearn.cluster import dbscan\n",
    "    scaler = StandardScaler()\n",
    "    to_scale = df[df.Train==1].drop('SalePrice', axis=1)\n",
    "    scaled = scaler.fit_transform(to_scale)\n",
    "    cd = df.loc[df.Train==1]\n",
    "    db = dbscan(scaled, eps=dbscan_eps, min_samples=dbscan_min_samples)\n",
    "    cs = pd.Series(db[1])\n",
    "    cs.index = cd.index\n",
    "    db_scan_outliers = cs[cs==-1].index\n",
    "    print('outliers from dbscan:', db_scan_outliers)\n",
    "    return df.drop(db_scan_outliers), db_scan_outliers, cs"
   ]
  },
  {
   "cell_type": "code",
   "execution_count": 56,
   "metadata": {
    "scrolled": true
   },
   "outputs": [
    {
     "name": "stdout",
     "output_type": "stream",
     "text": [
      "outliers from dbscan: Int64Index([298, 628, 921, 954, 1154, 1230, 1298, 1386], dtype='int64')\n"
     ]
    }
   ],
   "source": [
    "df, db_scan_outliers, clusters = remove_outliers_dbscan(df, dbscan_eps, dbscan_min_samples)"
   ]
  },
  {
   "cell_type": "markdown",
   "metadata": {},
   "source": [
    "Dbscan identified 2 clusters. 0 = not an outlier. -1 = outlier."
   ]
  },
  {
   "cell_type": "code",
   "execution_count": 57,
   "metadata": {},
   "outputs": [
    {
     "data": {
      "text/plain": [
       " 0    1450\n",
       "-1       8\n",
       "dtype: int64"
      ]
     },
     "execution_count": 57,
     "metadata": {},
     "output_type": "execute_result"
    }
   ],
   "source": [
    "clusters.value_counts()"
   ]
  },
  {
   "cell_type": "markdown",
   "metadata": {},
   "source": [
    "The following outliers were taken from notebooks uploaded to Kaggle. I wish I could explain how they were obtained. The person who uploaded the notebook found them from another notebook(s)."
   ]
  },
  {
   "cell_type": "code",
   "execution_count": 58,
   "metadata": {},
   "outputs": [],
   "source": [
    "additional_outliers = [30, 462, 631, 1322]\n",
    "df.drop(additional_outliers, axis=0, inplace=True)"
   ]
  },
  {
   "cell_type": "markdown",
   "metadata": {},
   "source": [
    "### Getting Ready for the Machine Learning Models\n",
    "Finally. We are almost ready to make some predictions. Functions get_cv_scores and train_and_test are from the DataQuest course, but may have been modified a little. "
   ]
  },
  {
   "cell_type": "code",
   "execution_count": 59,
   "metadata": {},
   "outputs": [],
   "source": [
    "from sklearn.model_selection import cross_val_score, GridSearchCV, KFold, train_test_split\n",
    "from sklearn.metrics import mean_squared_error, r2_score, mean_squared_log_error\n",
    "\n",
    "def split_data(df):\n",
    "    holdout = df[df.Train==0].drop(['SalePrice', 'Train'], axis=1)\n",
    "    y = df.loc[df.Train==1, 'SalePrice']\n",
    "    x = df[df.Train==1].drop(['SalePrice', 'Train'], axis=1)\n",
    "    \n",
    "    return x, y, holdout\n",
    "\n",
    "def get_cv_scores(model):\n",
    "    cv = KFold(shuffle=True, random_state=2, n_splits=10)\n",
    "    scores = cross_val_score(model,\n",
    "                             x,\n",
    "                             y,\n",
    "                             cv=cv,\n",
    "                             scoring='r2')\n",
    "\n",
    "    print(f'\\nR-Squared: {np.mean(scores):.5f} +/- {np.std(scores):.5f} ')\n",
    "    print(f'RMSE: {np.sqrt(mean_squared_error(y, model.predict(x))):.5f}')\n",
    "    \n",
    "def get_cv_scores_svr(model):\n",
    "    cv = KFold(shuffle=True, random_state=2, n_splits=10)\n",
    "    scores = cross_val_score(model,\n",
    "                             x_svr,\n",
    "                             y,\n",
    "                             cv=cv,\n",
    "                             scoring='r2')\n",
    "\n",
    "    print(f'\\nR-Squared: {np.mean(scores):.5f} +/- {np.std(scores):.5f} ')\n",
    "    print(f'RMSE: {np.sqrt(mean_squared_error(y, model.predict(x_svr))):.5f}')\n",
    "\n",
    "def get_used_features(fit_model, feature_cols):\n",
    "  coef_df = pd.Series(dtype='float')\n",
    "\n",
    "  for coef, col in enumerate(feature_cols):\n",
    "    c = fit_model.coef_[coef]\n",
    "    if c > 0:\n",
    "      coef_df[col] = c\n",
    "  return pd.DataFrame(coef_df, columns=['Coefficient']).sort_values(by='Coefficient', ascending=False)\n",
    "\n",
    "def get_unused_features(fit_model, feature_cols):\n",
    "    coef_df = pd.Series(dtype='float')\n",
    "\n",
    "    for coef, col in enumerate(feature_cols):\n",
    "        c = fit_model.coef_[coef]\n",
    "        if c == 0:\n",
    "          coef_df[col] = c\n",
    "        \n",
    "    return pd.DataFrame(coef_df, columns=['Coefficient']).sort_values(by='Coefficient', ascending=False)\n",
    "\n",
    "def train_and_test(model, param_grid):\n",
    "    ''' Find the best prams for the model based on choices given in param_grid '''\n",
    "    grid = GridSearchCV(estimator=model, param_grid=param_grid, scoring='r2', \n",
    "                        verbose=1, n_jobs=-1)\n",
    "    grid_result = grid.fit(x, y)\n",
    "    print('\\nBest Score: ', grid_result.best_score_)\n",
    "    print('Best Params: ', grid_result.best_params_)\n",
    "    \n",
    "def make_kaggle_file(predictions, Ids, filename):\n",
    "    df = pd.DataFrame()\n",
    "    df['Id'] = Ids\n",
    "    df['SalePrice'] = predictions\n",
    "    df.to_csv(f'submissions\\{filename}.csv', index=False)"
   ]
  },
  {
   "cell_type": "code",
   "execution_count": 60,
   "metadata": {},
   "outputs": [],
   "source": [
    "x, y, holdout = split_data(df)"
   ]
  },
  {
   "cell_type": "code",
   "execution_count": 61,
   "metadata": {
    "scrolled": true
   },
   "outputs": [
    {
     "data": {
      "text/plain": [
       "(1446, 129)"
      ]
     },
     "execution_count": 61,
     "metadata": {},
     "output_type": "execute_result"
    }
   ],
   "source": [
    "x.shape"
   ]
  },
  {
   "cell_type": "markdown",
   "metadata": {},
   "source": [
    "### Ridge Model"
   ]
  },
  {
   "cell_type": "code",
   "execution_count": 62,
   "metadata": {},
   "outputs": [],
   "source": [
    "from sklearn.linear_model import Ridge\n",
    "from sklearn.pipeline import make_pipeline"
   ]
  },
  {
   "cell_type": "code",
   "execution_count": 63,
   "metadata": {
    "scrolled": true
   },
   "outputs": [
    {
     "name": "stdout",
     "output_type": "stream",
     "text": [
      "Fitting 5 folds for each of 18 candidates, totalling 90 fits\n"
     ]
    },
    {
     "name": "stderr",
     "output_type": "stream",
     "text": [
      "[Parallel(n_jobs=-1)]: Using backend LokyBackend with 8 concurrent workers.\n",
      "[Parallel(n_jobs=-1)]: Done  34 tasks      | elapsed:   24.1s\n"
     ]
    },
    {
     "name": "stdout",
     "output_type": "stream",
     "text": [
      "\n",
      "Best Score:  0.9007976236940747\n",
      "Best Params:  {'alpha': 5, 'solver': 'auto'}\n"
     ]
    },
    {
     "name": "stderr",
     "output_type": "stream",
     "text": [
      "[Parallel(n_jobs=-1)]: Done  90 out of  90 | elapsed:   25.0s finished\n"
     ]
    }
   ],
   "source": [
    "ridge = Ridge(alpha=1, random_state=RANDOM_STATE).fit(x,y)\n",
    "alpha = [1e-07, 0.001, 0.01, 0.1, 1, 2, 3, 4, 5, 8, 9, 9.5,10, 10.5, 11,  15, 19, 20]\n",
    "# alpha = [.0001, .001, .01, .1, 1, 1.5, 2, 9]\n",
    "solver = ['auto']\n",
    "param_grid = dict(alpha=alpha, solver=solver)\n",
    "\n",
    "if find_ridge_params:\n",
    "    train_and_test(ridge, param_grid)"
   ]
  },
  {
   "cell_type": "markdown",
   "metadata": {},
   "source": [
    "The train_and_test function uses GridSearchCV and the parameter grid to find the best performing parameter values. However the ultimate judge is the Kaggle score so I end up changing a parameter for each model from the one recommended by GridSearchCV. In this case 5 is recommended for alpha, but I got better results with 9.<br>"
   ]
  },
  {
   "cell_type": "code",
   "execution_count": 64,
   "metadata": {
    "scrolled": true
   },
   "outputs": [
    {
     "name": "stdout",
     "output_type": "stream",
     "text": [
      "\n",
      "R-Squared: 0.90235 +/- 0.01748 \n",
      "RMSE: 0.11110\n"
     ]
    }
   ],
   "source": [
    "ridge_alpha = 9\n",
    "\n",
    "ridge_setup = Ridge(alpha=ridge_alpha, solver='auto', random_state=RANDOM_STATE)\n",
    "ridge = make_pipeline(RobustScaler(), ridge_setup).fit(x,y)\n",
    "get_cv_scores(ridge)"
   ]
  },
  {
   "cell_type": "markdown",
   "metadata": {},
   "source": [
    "get_cv_scores uses cross fold validation to get the best R2 and RMSE scores you can with the train data. R2 is a measure of how much of the overall variation in SalePrice your model explains. The higher the better. RMSE is the square root of the mean of the squared errors, where error is the difference between the predicted SalePrice and the actual SalePrice. The lower the better.<br>\n",
    "\n",
    "These can be used to help assess the effect of changes to the process like adding new features. However the true judge again is the Kaggle score and sometimes these scores don't predict what will happen with the Kaggle score."
   ]
  },
  {
   "cell_type": "code",
   "execution_count": 65,
   "metadata": {},
   "outputs": [
    {
     "data": {
      "text/plain": [
       "array([121829.82555239, 172468.09821208, 181946.77958316, ...,\n",
       "       160391.87216322, 129603.82721133, 225316.55336205])"
      ]
     },
     "execution_count": 65,
     "metadata": {},
     "output_type": "execute_result"
    }
   ],
   "source": [
    "ridge_pred = np.expm1(ridge.predict(holdout))\n",
    "ridge_pred"
   ]
  },
  {
   "cell_type": "markdown",
   "metadata": {},
   "source": [
    "### Light Gradient Booster"
   ]
  },
  {
   "cell_type": "code",
   "execution_count": 66,
   "metadata": {},
   "outputs": [],
   "source": [
    "lgb_estimators = 5000 # 5000 new best\n",
    "loss = 'huber' # huber helps when you have a lot of outliers"
   ]
  },
  {
   "cell_type": "code",
   "execution_count": 67,
   "metadata": {},
   "outputs": [
    {
     "name": "stdout",
     "output_type": "stream",
     "text": [
      "Fitting 5 folds for each of 162 candidates, totalling 810 fits\n"
     ]
    },
    {
     "name": "stderr",
     "output_type": "stream",
     "text": [
      "[Parallel(n_jobs=-1)]: Using backend LokyBackend with 8 concurrent workers.\n",
      "[Parallel(n_jobs=-1)]: Done  34 tasks      | elapsed:   32.5s\n",
      "[Parallel(n_jobs=-1)]: Done 184 tasks      | elapsed:  2.5min\n",
      "[Parallel(n_jobs=-1)]: Done 434 tasks      | elapsed:  6.1min\n",
      "[Parallel(n_jobs=-1)]: Done 784 tasks      | elapsed: 11.1min\n",
      "[Parallel(n_jobs=-1)]: Done 810 out of 810 | elapsed: 11.5min finished\n"
     ]
    },
    {
     "name": "stdout",
     "output_type": "stream",
     "text": [
      "\n",
      "Best Score:  0.9158825144266738\n",
      "Best Params:  {'bagging_fraction': 0.4, 'bagging_freq': 5, 'bagging_seed': 9, 'feature_fraction': 0.2, 'feature_fraction_seed': 8, 'learning_rate': 0.008, 'loss': 'huber', 'max_bin': 100, 'min_data_in_leaf': 8, 'min_sum_hessian_in_leaf': 10, 'n_estimators': 5000, 'num_leaves': 8}\n"
     ]
    }
   ],
   "source": [
    "from lightgbm import LGBMRegressor\n",
    "\n",
    "if find_lgb_params:\n",
    "    lgbr = LGBMRegressor(objective='regression', learning_rate = 0.1)\n",
    "    learning_rate=[0.008, 0.009, 0.01]\n",
    "    num_leaves = [8, 9, 10]\n",
    "    n_estimators = [lgb_estimators]\n",
    "    max_bin = [100]\n",
    "    bagging_fraction = [0.4]\n",
    "    bagging_freq = [5]\n",
    "    feature_fraction = [0.2]\n",
    "    feature_fraction_seed = [8, 9]\n",
    "    bagging_seed = [9]\n",
    "    min_data_in_leaf = [6, 7, 8]\n",
    "    min_sum_hessian_in_leaf = [8, 9, 10]\n",
    "    loss = ['huber']\n",
    "\n",
    "    param_grid = dict(learning_rate=learning_rate, num_leaves=num_leaves, n_estimators=n_estimators, max_bin=max_bin,\n",
    "                     bagging_fraction=bagging_fraction, bagging_freq=bagging_freq, feature_fraction=feature_fraction,\n",
    "                     feature_fraction_seed=feature_fraction_seed, bagging_seed=bagging_seed, min_data_in_leaf=min_data_in_leaf,\n",
    "                     min_sum_hessian_in_leaf=min_sum_hessian_in_leaf, loss=loss)\n",
    "    train_and_test(lgbr, param_grid)"
   ]
  },
  {
   "cell_type": "markdown",
   "metadata": {},
   "source": [
    "5000 is a lot more estimators than GridSearchCV recommends."
   ]
  },
  {
   "cell_type": "code",
   "execution_count": 68,
   "metadata": {},
   "outputs": [],
   "source": [
    "bagging_fraction = 0.4, # 0.4 default\n",
    "bagging_freq = 5, # 5 default\n",
    "bagging_seed = 9, # 9 default\n",
    "feature_fraction = 0.2, # 0.2 default\n",
    "\n",
    "feature_fraction_seed = 9, # 8 default\n",
    "\n",
    "learning_rate = 0.008, # 0.008 default\n",
    "max_bin = 100, # 100 default\n",
    "min_data_in_leaf = 8, # 6 default\n",
    "min_sum_hessian_in_leaf = 10, # 10 default\n",
    "num_leaves = 9 # 8 default"
   ]
  },
  {
   "cell_type": "code",
   "execution_count": 69,
   "metadata": {},
   "outputs": [
    {
     "name": "stdout",
     "output_type": "stream",
     "text": [
      "\n",
      "R-Squared: 0.91492 +/- 0.01692 \n",
      "RMSE: 0.04716\n"
     ]
    }
   ],
   "source": [
    "lgb_setup = LGBMRegressor(objective='regression',\n",
    "                              bagging_fraction = bagging_fraction,\n",
    "                              bagging_freq = bagging_freq,\n",
    "                              bagging_seed = bagging_seed,\n",
    "                              feature_fraction = feature_fraction,\n",
    "                              feature_fraction_seed = feature_fraction_seed,\n",
    "                              learning_rate = learning_rate,\n",
    "                              max_bin = max_bin,\n",
    "                              min_data_in_leaf = min_data_in_leaf,\n",
    "                              min_sum_hessian_in_leaf = min_sum_hessian_in_leaf,\n",
    "                              n_estimators = lgb_estimators,\n",
    "                              num_leaves = num_leaves,\n",
    "                              loss=loss)\n",
    "\n",
    "\n",
    "lgb = make_pipeline(RobustScaler(), lgb_setup).fit(x,y)\n",
    "get_cv_scores(lgb)"
   ]
  },
  {
   "cell_type": "code",
   "execution_count": 70,
   "metadata": {},
   "outputs": [
    {
     "data": {
      "text/plain": [
       "array([124032.95374013, 158490.76937386, 184756.44373373, ...,\n",
       "       157545.69072707, 121271.14574832, 195345.0253423 ])"
      ]
     },
     "execution_count": 70,
     "metadata": {},
     "output_type": "execute_result"
    }
   ],
   "source": [
    "lgb_pred = np.expm1(lgb.predict(holdout))\n",
    "lgb_pred"
   ]
  },
  {
   "cell_type": "markdown",
   "metadata": {},
   "source": [
    "### SVR\n",
    "This is the final model we will use. It doesn't get good results on it's own, but when you blend it's predictions in with the other models predictions, it helps a little."
   ]
  },
  {
   "cell_type": "code",
   "execution_count": 71,
   "metadata": {},
   "outputs": [],
   "source": [
    "from sklearn.svm import SVR"
   ]
  },
  {
   "cell_type": "code",
   "execution_count": 72,
   "metadata": {},
   "outputs": [
    {
     "name": "stdout",
     "output_type": "stream",
     "text": [
      "Fitting 5 folds for each of 18 candidates, totalling 90 fits\n"
     ]
    },
    {
     "name": "stderr",
     "output_type": "stream",
     "text": [
      "[Parallel(n_jobs=-1)]: Using backend LokyBackend with 8 concurrent workers.\n",
      "[Parallel(n_jobs=-1)]: Done  34 tasks      | elapsed:  3.4min\n",
      "[Parallel(n_jobs=-1)]: Done  90 out of  90 | elapsed:  8.6min finished\n"
     ]
    },
    {
     "name": "stdout",
     "output_type": "stream",
     "text": [
      "\n",
      "Best Score:  0.8748430972968672\n",
      "Best Params:  {'C': 5000, 'epsilon': 0.025, 'gamma': 3e-06}\n"
     ]
    }
   ],
   "source": [
    "if find_svr_params:\n",
    "    svr = SVR(C= 20, epsilon= 0.008, gamma=0.0003)\n",
    "    C = [5000] # dropped 18, 19, 20, 21, 22, 23, 24,25, 26, 27, 28, 29, 30, 32, 34, 36, 38, 40, 44,\n",
    "    epsilon = [ 0.015, 0.02, 0.025] # dropped 0.0085, 0.009,\n",
    "    gamma = [3e-06, 5e-06, 7e-06, 9e-06, 1.1e-05, 3e-05] # dropped , 1.45e-05, 1.5e-05, 1.2e-05, 1.3e-05, 1.4e-05\n",
    "    param_grid = dict(C=C, epsilon=epsilon, gamma=gamma)\n",
    "    \n",
    "    train_and_test(svr, param_grid)"
   ]
  },
  {
   "cell_type": "code",
   "execution_count": 73,
   "metadata": {},
   "outputs": [],
   "source": [
    "svr_c = 5000 # 23 is default\n",
    "svr_epsilon = 0.025 # 0.02 default\n",
    "svr_gamma = .0002 # 3e-05 default .0002 was used to get best score, lowers rmse, destroys r2\n",
    "\n",
    "svr_setup = SVR(C=svr_c, epsilon=svr_epsilon, gamma=svr_gamma)\n",
    "svr = make_pipeline(RobustScaler(), svr_setup).fit(x,y)"
   ]
  },
  {
   "cell_type": "code",
   "execution_count": 74,
   "metadata": {},
   "outputs": [
    {
     "name": "stdout",
     "output_type": "stream",
     "text": [
      "\n",
      "R-Squared: 0.84547 +/- 0.03208 \n",
      "RMSE: 0.04724\n"
     ]
    }
   ],
   "source": [
    "get_cv_scores(svr)"
   ]
  },
  {
   "cell_type": "code",
   "execution_count": 75,
   "metadata": {},
   "outputs": [
    {
     "data": {
      "text/plain": [
       "array([130950.69455094, 247249.17303231, 203595.41060033, ...,\n",
       "       172225.84090336, 193516.87901013, 223235.37393139])"
      ]
     },
     "execution_count": 75,
     "metadata": {},
     "output_type": "execute_result"
    }
   ],
   "source": [
    "svr_pred = np.expm1(svr.predict(holdout))\n",
    "svr_pred"
   ]
  },
  {
   "cell_type": "markdown",
   "metadata": {},
   "source": [
    "### Blends\n",
    "Blends are a way of getting ensemble predictions by taking a weighted average of predictions from different models. From what I understand it is best to use a few very different models than a bunch of different models. The idea is the different models will each have different strengths and weakness, so taking an overall averge will be better than any of the models on their own. Ridge, Light Gradient Boost, and SVR was the blend I found that worked the best."
   ]
  },
  {
   "cell_type": "code",
   "execution_count": 76,
   "metadata": {},
   "outputs": [],
   "source": [
    "blend_pred = 0.65 * lgb_pred + 0.25 * ridge_pred + 0.10 * svr_pred # long time best blend\n",
    "\n",
    "blend = pd.DataFrame({\n",
    "    'Id': Ids,\n",
    "    'SalePrice': blend_pred\n",
    "})\n",
    "\n",
    "upgrade = blend[blend.SalePrice > upper_limit].index\n",
    "blend.loc[upgrade, 'SalePrice'] = blend.loc[upgrade, 'SalePrice'] * upgrade_factor\n",
    "\n",
    "downgrade = blend[blend.SalePrice < lower_limit].index\n",
    "blend.loc[downgrade, 'SalePrice'] = blend.loc[downgrade, 'SalePrice'] * down_grade_factor"
   ]
  },
  {
   "cell_type": "code",
   "execution_count": 77,
   "metadata": {},
   "outputs": [],
   "source": [
    "kag_file_name = 'Pres2_sub_1'\n",
    "if submit_pred:\n",
    "    blend.to_csv('submissions/simple/' + kag_file_name + '.csv', index=False)"
   ]
  },
  {
   "cell_type": "markdown",
   "metadata": {},
   "source": [
    "### Kaggle Score ===> 0.11412"
   ]
  },
  {
   "cell_type": "code",
   "execution_count": 78,
   "metadata": {},
   "outputs": [
    {
     "data": {
      "text/plain": [
       "'Pres2_sub_1'"
      ]
     },
     "execution_count": 78,
     "metadata": {},
     "output_type": "execute_result"
    }
   ],
   "source": [
    "kag_file_name"
   ]
  },
  {
   "cell_type": "code",
   "execution_count": 79,
   "metadata": {},
   "outputs": [
    {
     "data": {
      "text/plain": [
       "True"
      ]
     },
     "execution_count": 79,
     "metadata": {},
     "output_type": "execute_result"
    }
   ],
   "source": [
    "submit_pred"
   ]
  },
  {
   "cell_type": "markdown",
   "metadata": {},
   "source": [
    "### Where To Go From Here?\n",
    "I've been finding ways to keep getting a better score, but it's slow going and people keep passing me. Not sure what else to try. I think it would be fun to create a dashboard to make visualizing the features easier. I've seen where dashboards can be created in Tableau and Excel, but don't know if they can be created directly in a Jupyter Notebook."
   ]
  },
  {
   "cell_type": "code",
   "execution_count": 80,
   "metadata": {},
   "outputs": [
    {
     "data": {
      "text/plain": [
       "0.01879194630872483"
      ]
     },
     "execution_count": 80,
     "metadata": {},
     "output_type": "execute_result"
    }
   ],
   "source": [
    "98/5215"
   ]
  },
  {
   "cell_type": "markdown",
   "metadata": {},
   "source": [
    "Still in the top 2% :) Kaggle seems to drop people out of the leaderboard from time to time. I was ranked 100 yesterday, 98 today. I'll take it!"
   ]
  },
  {
   "cell_type": "markdown",
   "metadata": {},
   "source": [
    "I hope this notebook was helpful to at least one person. Honestly I don't have a lot of experience teaching, explaining, or presenting to people. Mostly just crunching data with SQL behind the scenes. I really love Python however. Glad I am learning it and look forward to using it on the job in hopefully the near future. Good luck out there in your Data Science journey."
   ]
  },
  {
   "cell_type": "code",
   "execution_count": null,
   "metadata": {},
   "outputs": [],
   "source": []
  }
 ],
 "metadata": {
  "kernelspec": {
   "display_name": "Python 3",
   "language": "python",
   "name": "python3"
  },
  "language_info": {
   "codemirror_mode": {
    "name": "ipython",
    "version": 3
   },
   "file_extension": ".py",
   "mimetype": "text/x-python",
   "name": "python",
   "nbconvert_exporter": "python",
   "pygments_lexer": "ipython3",
   "version": "3.7.3"
  }
 },
 "nbformat": 4,
 "nbformat_minor": 4
}
